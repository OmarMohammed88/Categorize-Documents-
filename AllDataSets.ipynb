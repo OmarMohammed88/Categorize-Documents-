{
  "nbformat": 4,
  "nbformat_minor": 0,
  "metadata": {
    "colab": {
      "name": "AllDataSets.ipynb",
      "provenance": [],
      "collapsed_sections": [
        "10Q4C9D1TtT6",
        "q2DUzfTBVGDh"
      ],
      "toc_visible": true,
      "mount_file_id": "1heE6VZYwdl_VRVt8izTpImeahKW7NwjR",
      "authorship_tag": "ABX9TyMogGsvJ6c1bR9TFT6jFquX",
      "include_colab_link": true
    },
    "kernelspec": {
      "name": "python3",
      "display_name": "Python 3"
    },
    "accelerator": "GPU"
  },
  "cells": [
    {
      "cell_type": "markdown",
      "metadata": {
        "id": "view-in-github",
        "colab_type": "text"
      },
      "source": [
        "<a href=\"https://colab.research.google.com/github/OmarMohammed88/NLP_Tasks/blob/main/AllDataSets.ipynb\" target=\"_parent\"><img src=\"https://colab.research.google.com/assets/colab-badge.svg\" alt=\"Open In Colab\"/></a>"
      ]
    },
    {
      "cell_type": "markdown",
      "metadata": {
        "id": "10Q4C9D1TtT6"
      },
      "source": [
        "##weights and biases"
      ]
    },
    {
      "cell_type": "code",
      "metadata": {
        "id": "cS4H24CcTb3m",
        "outputId": "82a59bcc-99d9-4265-b9e7-1caffb617876",
        "colab": {
          "base_uri": "https://localhost:8080/"
        }
      },
      "source": [
        "!pip install --upgrade wandb"
      ],
      "execution_count": null,
      "outputs": [
        {
          "output_type": "stream",
          "text": [
            "Collecting wandb\n",
            "\u001b[?25l  Downloading https://files.pythonhosted.org/packages/ab/cc/cbc171540f682a7ebcbe0ca8bcd0cb002e9dfaac0d10dba51717141c7c23/wandb-0.9.6-py2.py3-none-any.whl (1.4MB)\n",
            "\r\u001b[K     |▎                               | 10kB 27.1MB/s eta 0:00:01\r\u001b[K     |▌                               | 20kB 3.4MB/s eta 0:00:01\r\u001b[K     |▊                               | 30kB 4.6MB/s eta 0:00:01\r\u001b[K     |█                               | 40kB 4.9MB/s eta 0:00:01\r\u001b[K     |█▏                              | 51kB 4.0MB/s eta 0:00:01\r\u001b[K     |█▍                              | 61kB 4.5MB/s eta 0:00:01\r\u001b[K     |█▋                              | 71kB 5.0MB/s eta 0:00:01\r\u001b[K     |█▉                              | 81kB 5.3MB/s eta 0:00:01\r\u001b[K     |██                              | 92kB 5.6MB/s eta 0:00:01\r\u001b[K     |██▎                             | 102kB 5.5MB/s eta 0:00:01\r\u001b[K     |██▌                             | 112kB 5.5MB/s eta 0:00:01\r\u001b[K     |██▊                             | 122kB 5.5MB/s eta 0:00:01\r\u001b[K     |███                             | 133kB 5.5MB/s eta 0:00:01\r\u001b[K     |███▎                            | 143kB 5.5MB/s eta 0:00:01\r\u001b[K     |███▌                            | 153kB 5.5MB/s eta 0:00:01\r\u001b[K     |███▊                            | 163kB 5.5MB/s eta 0:00:01\r\u001b[K     |████                            | 174kB 5.5MB/s eta 0:00:01\r\u001b[K     |████▏                           | 184kB 5.5MB/s eta 0:00:01\r\u001b[K     |████▍                           | 194kB 5.5MB/s eta 0:00:01\r\u001b[K     |████▋                           | 204kB 5.5MB/s eta 0:00:01\r\u001b[K     |████▉                           | 215kB 5.5MB/s eta 0:00:01\r\u001b[K     |█████                           | 225kB 5.5MB/s eta 0:00:01\r\u001b[K     |█████▎                          | 235kB 5.5MB/s eta 0:00:01\r\u001b[K     |█████▌                          | 245kB 5.5MB/s eta 0:00:01\r\u001b[K     |█████▉                          | 256kB 5.5MB/s eta 0:00:01\r\u001b[K     |██████                          | 266kB 5.5MB/s eta 0:00:01\r\u001b[K     |██████▎                         | 276kB 5.5MB/s eta 0:00:01\r\u001b[K     |██████▌                         | 286kB 5.5MB/s eta 0:00:01\r\u001b[K     |██████▊                         | 296kB 5.5MB/s eta 0:00:01\r\u001b[K     |███████                         | 307kB 5.5MB/s eta 0:00:01\r\u001b[K     |███████▏                        | 317kB 5.5MB/s eta 0:00:01\r\u001b[K     |███████▍                        | 327kB 5.5MB/s eta 0:00:01\r\u001b[K     |███████▋                        | 337kB 5.5MB/s eta 0:00:01\r\u001b[K     |███████▉                        | 348kB 5.5MB/s eta 0:00:01\r\u001b[K     |████████                        | 358kB 5.5MB/s eta 0:00:01\r\u001b[K     |████████▎                       | 368kB 5.5MB/s eta 0:00:01\r\u001b[K     |████████▋                       | 378kB 5.5MB/s eta 0:00:01\r\u001b[K     |████████▉                       | 389kB 5.5MB/s eta 0:00:01\r\u001b[K     |█████████                       | 399kB 5.5MB/s eta 0:00:01\r\u001b[K     |█████████▎                      | 409kB 5.5MB/s eta 0:00:01\r\u001b[K     |█████████▌                      | 419kB 5.5MB/s eta 0:00:01\r\u001b[K     |█████████▊                      | 430kB 5.5MB/s eta 0:00:01\r\u001b[K     |██████████                      | 440kB 5.5MB/s eta 0:00:01\r\u001b[K     |██████████▏                     | 450kB 5.5MB/s eta 0:00:01\r\u001b[K     |██████████▍                     | 460kB 5.5MB/s eta 0:00:01\r\u001b[K     |██████████▋                     | 471kB 5.5MB/s eta 0:00:01\r\u001b[K     |██████████▉                     | 481kB 5.5MB/s eta 0:00:01\r\u001b[K     |███████████                     | 491kB 5.5MB/s eta 0:00:01\r\u001b[K     |███████████▍                    | 501kB 5.5MB/s eta 0:00:01\r\u001b[K     |███████████▋                    | 512kB 5.5MB/s eta 0:00:01\r\u001b[K     |███████████▉                    | 522kB 5.5MB/s eta 0:00:01\r\u001b[K     |████████████                    | 532kB 5.5MB/s eta 0:00:01\r\u001b[K     |████████████▎                   | 542kB 5.5MB/s eta 0:00:01\r\u001b[K     |████████████▌                   | 552kB 5.5MB/s eta 0:00:01\r\u001b[K     |████████████▊                   | 563kB 5.5MB/s eta 0:00:01\r\u001b[K     |█████████████                   | 573kB 5.5MB/s eta 0:00:01\r\u001b[K     |█████████████▏                  | 583kB 5.5MB/s eta 0:00:01\r\u001b[K     |█████████████▍                  | 593kB 5.5MB/s eta 0:00:01\r\u001b[K     |█████████████▋                  | 604kB 5.5MB/s eta 0:00:01\r\u001b[K     |█████████████▉                  | 614kB 5.5MB/s eta 0:00:01\r\u001b[K     |██████████████                  | 624kB 5.5MB/s eta 0:00:01\r\u001b[K     |██████████████▍                 | 634kB 5.5MB/s eta 0:00:01\r\u001b[K     |██████████████▋                 | 645kB 5.5MB/s eta 0:00:01\r\u001b[K     |██████████████▉                 | 655kB 5.5MB/s eta 0:00:01\r\u001b[K     |███████████████                 | 665kB 5.5MB/s eta 0:00:01\r\u001b[K     |███████████████▎                | 675kB 5.5MB/s eta 0:00:01\r\u001b[K     |███████████████▌                | 686kB 5.5MB/s eta 0:00:01\r\u001b[K     |███████████████▊                | 696kB 5.5MB/s eta 0:00:01\r\u001b[K     |████████████████                | 706kB 5.5MB/s eta 0:00:01\r\u001b[K     |████████████████▏               | 716kB 5.5MB/s eta 0:00:01\r\u001b[K     |████████████████▍               | 727kB 5.5MB/s eta 0:00:01\r\u001b[K     |████████████████▋               | 737kB 5.5MB/s eta 0:00:01\r\u001b[K     |████████████████▉               | 747kB 5.5MB/s eta 0:00:01\r\u001b[K     |█████████████████▏              | 757kB 5.5MB/s eta 0:00:01\r\u001b[K     |█████████████████▍              | 768kB 5.5MB/s eta 0:00:01\r\u001b[K     |█████████████████▋              | 778kB 5.5MB/s eta 0:00:01\r\u001b[K     |█████████████████▉              | 788kB 5.5MB/s eta 0:00:01\r\u001b[K     |██████████████████              | 798kB 5.5MB/s eta 0:00:01\r\u001b[K     |██████████████████▎             | 808kB 5.5MB/s eta 0:00:01\r\u001b[K     |██████████████████▌             | 819kB 5.5MB/s eta 0:00:01\r\u001b[K     |██████████████████▊             | 829kB 5.5MB/s eta 0:00:01\r\u001b[K     |███████████████████             | 839kB 5.5MB/s eta 0:00:01\r\u001b[K     |███████████████████▏            | 849kB 5.5MB/s eta 0:00:01\r\u001b[K     |███████████████████▍            | 860kB 5.5MB/s eta 0:00:01\r\u001b[K     |███████████████████▋            | 870kB 5.5MB/s eta 0:00:01\r\u001b[K     |████████████████████            | 880kB 5.5MB/s eta 0:00:01\r\u001b[K     |████████████████████▏           | 890kB 5.5MB/s eta 0:00:01\r\u001b[K     |████████████████████▍           | 901kB 5.5MB/s eta 0:00:01\r\u001b[K     |████████████████████▋           | 911kB 5.5MB/s eta 0:00:01\r\u001b[K     |████████████████████▉           | 921kB 5.5MB/s eta 0:00:01\r\u001b[K     |█████████████████████           | 931kB 5.5MB/s eta 0:00:01\r\u001b[K     |█████████████████████▎          | 942kB 5.5MB/s eta 0:00:01\r\u001b[K     |█████████████████████▌          | 952kB 5.5MB/s eta 0:00:01\r\u001b[K     |█████████████████████▊          | 962kB 5.5MB/s eta 0:00:01\r\u001b[K     |██████████████████████          | 972kB 5.5MB/s eta 0:00:01\r\u001b[K     |██████████████████████▏         | 983kB 5.5MB/s eta 0:00:01\r\u001b[K     |██████████████████████▍         | 993kB 5.5MB/s eta 0:00:01\r\u001b[K     |██████████████████████▊         | 1.0MB 5.5MB/s eta 0:00:01\r\u001b[K     |███████████████████████         | 1.0MB 5.5MB/s eta 0:00:01\r\u001b[K     |███████████████████████▏        | 1.0MB 5.5MB/s eta 0:00:01\r\u001b[K     |███████████████████████▍        | 1.0MB 5.5MB/s eta 0:00:01\r\u001b[K     |███████████████████████▋        | 1.0MB 5.5MB/s eta 0:00:01\r\u001b[K     |███████████████████████▉        | 1.1MB 5.5MB/s eta 0:00:01\r\u001b[K     |████████████████████████        | 1.1MB 5.5MB/s eta 0:00:01\r\u001b[K     |████████████████████████▎       | 1.1MB 5.5MB/s eta 0:00:01\r\u001b[K     |████████████████████████▌       | 1.1MB 5.5MB/s eta 0:00:01\r\u001b[K     |████████████████████████▊       | 1.1MB 5.5MB/s eta 0:00:01\r\u001b[K     |█████████████████████████       | 1.1MB 5.5MB/s eta 0:00:01\r\u001b[K     |█████████████████████████▏      | 1.1MB 5.5MB/s eta 0:00:01\r\u001b[K     |█████████████████████████▌      | 1.1MB 5.5MB/s eta 0:00:01\r\u001b[K     |█████████████████████████▊      | 1.1MB 5.5MB/s eta 0:00:01\r\u001b[K     |██████████████████████████      | 1.1MB 5.5MB/s eta 0:00:01\r\u001b[K     |██████████████████████████▏     | 1.2MB 5.5MB/s eta 0:00:01\r\u001b[K     |██████████████████████████▍     | 1.2MB 5.5MB/s eta 0:00:01\r\u001b[K     |██████████████████████████▋     | 1.2MB 5.5MB/s eta 0:00:01\r\u001b[K     |██████████████████████████▉     | 1.2MB 5.5MB/s eta 0:00:01\r\u001b[K     |███████████████████████████     | 1.2MB 5.5MB/s eta 0:00:01\r\u001b[K     |███████████████████████████▎    | 1.2MB 5.5MB/s eta 0:00:01\r\u001b[K     |███████████████████████████▌    | 1.2MB 5.5MB/s eta 0:00:01\r\u001b[K     |███████████████████████████▊    | 1.2MB 5.5MB/s eta 0:00:01\r\u001b[K     |████████████████████████████    | 1.2MB 5.5MB/s eta 0:00:01\r\u001b[K     |████████████████████████████▏   | 1.2MB 5.5MB/s eta 0:00:01\r\u001b[K     |████████████████████████████▌   | 1.3MB 5.5MB/s eta 0:00:01\r\u001b[K     |████████████████████████████▊   | 1.3MB 5.5MB/s eta 0:00:01\r\u001b[K     |█████████████████████████████   | 1.3MB 5.5MB/s eta 0:00:01\r\u001b[K     |█████████████████████████████▏  | 1.3MB 5.5MB/s eta 0:00:01\r\u001b[K     |█████████████████████████████▍  | 1.3MB 5.5MB/s eta 0:00:01\r\u001b[K     |█████████████████████████████▋  | 1.3MB 5.5MB/s eta 0:00:01\r\u001b[K     |█████████████████████████████▉  | 1.3MB 5.5MB/s eta 0:00:01\r\u001b[K     |██████████████████████████████  | 1.3MB 5.5MB/s eta 0:00:01\r\u001b[K     |██████████████████████████████▎ | 1.3MB 5.5MB/s eta 0:00:01\r\u001b[K     |██████████████████████████████▌ | 1.4MB 5.5MB/s eta 0:00:01\r\u001b[K     |██████████████████████████████▊ | 1.4MB 5.5MB/s eta 0:00:01\r\u001b[K     |███████████████████████████████ | 1.4MB 5.5MB/s eta 0:00:01\r\u001b[K     |███████████████████████████████▎| 1.4MB 5.5MB/s eta 0:00:01\r\u001b[K     |███████████████████████████████▌| 1.4MB 5.5MB/s eta 0:00:01\r\u001b[K     |███████████████████████████████▊| 1.4MB 5.5MB/s eta 0:00:01\r\u001b[K     |████████████████████████████████| 1.4MB 5.5MB/s eta 0:00:01\r\u001b[K     |████████████████████████████████| 1.4MB 5.5MB/s \n",
            "\u001b[?25hCollecting shortuuid>=0.5.0\n",
            "  Downloading https://files.pythonhosted.org/packages/25/a6/2ecc1daa6a304e7f1b216f0896b26156b78e7c38e1211e9b798b4716c53d/shortuuid-1.0.1-py3-none-any.whl\n",
            "Collecting docker-pycreds>=0.4.0\n",
            "  Downloading https://files.pythonhosted.org/packages/f5/e8/f6bd1eee09314e7e6dee49cbe2c5e22314ccdb38db16c9fc72d2fa80d054/docker_pycreds-0.4.0-py2.py3-none-any.whl\n",
            "Requirement already satisfied, skipping upgrade: psutil>=5.0.0 in /usr/local/lib/python3.6/dist-packages (from wandb) (5.4.8)\n",
            "Collecting configparser>=3.8.1\n",
            "  Downloading https://files.pythonhosted.org/packages/4b/6b/01baa293090240cf0562cc5eccb69c6f5006282127f2b846fad011305c79/configparser-5.0.0-py3-none-any.whl\n",
            "Collecting watchdog>=0.8.3\n",
            "\u001b[?25l  Downloading https://files.pythonhosted.org/packages/0e/06/121302598a4fc01aca942d937f4a2c33430b7181137b35758913a8db10ad/watchdog-0.10.3.tar.gz (94kB)\n",
            "\u001b[K     |████████████████████████████████| 102kB 12.1MB/s \n",
            "\u001b[?25hCollecting subprocess32>=3.5.3\n",
            "\u001b[?25l  Downloading https://files.pythonhosted.org/packages/32/c8/564be4d12629b912ea431f1a50eb8b3b9d00f1a0b1ceff17f266be190007/subprocess32-3.5.4.tar.gz (97kB)\n",
            "\u001b[K     |████████████████████████████████| 102kB 12.4MB/s \n",
            "\u001b[?25hRequirement already satisfied, skipping upgrade: six>=1.10.0 in /usr/local/lib/python3.6/dist-packages (from wandb) (1.15.0)\n",
            "Collecting sentry-sdk>=0.4.0\n",
            "\u001b[?25l  Downloading https://files.pythonhosted.org/packages/48/4b/317ff319141f105e43705e5883b7a8c61c8eeedcf01c53deca9182d44ee8/sentry_sdk-0.17.2-py2.py3-none-any.whl (115kB)\n",
            "\u001b[K     |████████████████████████████████| 122kB 30.3MB/s \n",
            "\u001b[?25hRequirement already satisfied, skipping upgrade: requests>=2.0.0 in /usr/local/lib/python3.6/dist-packages (from wandb) (2.23.0)\n",
            "Requirement already satisfied, skipping upgrade: PyYAML>=3.10 in /usr/local/lib/python3.6/dist-packages (from wandb) (3.13)\n",
            "Requirement already satisfied, skipping upgrade: nvidia-ml-py3>=7.352.0 in /usr/local/lib/python3.6/dist-packages (from wandb) (7.352.0)\n",
            "Requirement already satisfied, skipping upgrade: python-dateutil>=2.6.1 in /usr/local/lib/python3.6/dist-packages (from wandb) (2.8.1)\n",
            "Collecting gql==0.2.0\n",
            "  Downloading https://files.pythonhosted.org/packages/c4/6f/cf9a3056045518f06184e804bae89390eb706168349daa9dff8ac609962a/gql-0.2.0.tar.gz\n",
            "Requirement already satisfied, skipping upgrade: Click>=7.0 in /usr/local/lib/python3.6/dist-packages (from wandb) (7.1.2)\n",
            "Collecting GitPython>=1.0.0\n",
            "\u001b[?25l  Downloading https://files.pythonhosted.org/packages/f9/1e/a45320cab182bf1c8656107b3d4c042e659742822fc6bff150d769a984dd/GitPython-3.1.7-py3-none-any.whl (158kB)\n",
            "\u001b[K     |████████████████████████████████| 163kB 28.9MB/s \n",
            "\u001b[?25hCollecting pathtools>=0.1.1\n",
            "  Downloading https://files.pythonhosted.org/packages/e7/7f/470d6fcdf23f9f3518f6b0b76be9df16dcc8630ad409947f8be2eb0ed13a/pathtools-0.1.2.tar.gz\n",
            "Requirement already satisfied, skipping upgrade: urllib3>=1.10.0 in /usr/local/lib/python3.6/dist-packages (from sentry-sdk>=0.4.0->wandb) (1.24.3)\n",
            "Requirement already satisfied, skipping upgrade: certifi in /usr/local/lib/python3.6/dist-packages (from sentry-sdk>=0.4.0->wandb) (2020.6.20)\n",
            "Requirement already satisfied, skipping upgrade: idna<3,>=2.5 in /usr/local/lib/python3.6/dist-packages (from requests>=2.0.0->wandb) (2.10)\n",
            "Requirement already satisfied, skipping upgrade: chardet<4,>=3.0.2 in /usr/local/lib/python3.6/dist-packages (from requests>=2.0.0->wandb) (3.0.4)\n",
            "Collecting graphql-core<2,>=0.5.0\n",
            "\u001b[?25l  Downloading https://files.pythonhosted.org/packages/b0/89/00ad5e07524d8c523b14d70c685e0299a8b0de6d0727e368c41b89b7ed0b/graphql-core-1.1.tar.gz (70kB)\n",
            "\u001b[K     |████████████████████████████████| 71kB 9.8MB/s \n",
            "\u001b[?25hRequirement already satisfied, skipping upgrade: promise<3,>=2.0 in /usr/local/lib/python3.6/dist-packages (from gql==0.2.0->wandb) (2.3)\n",
            "Collecting gitdb<5,>=4.0.1\n",
            "\u001b[?25l  Downloading https://files.pythonhosted.org/packages/48/11/d1800bca0a3bae820b84b7d813ad1eff15a48a64caea9c823fc8c1b119e8/gitdb-4.0.5-py3-none-any.whl (63kB)\n",
            "\u001b[K     |████████████████████████████████| 71kB 9.2MB/s \n",
            "\u001b[?25hCollecting smmap<4,>=3.0.1\n",
            "  Downloading https://files.pythonhosted.org/packages/b0/9a/4d409a6234eb940e6a78dfdfc66156e7522262f5f2fecca07dc55915952d/smmap-3.0.4-py2.py3-none-any.whl\n",
            "Building wheels for collected packages: watchdog, subprocess32, gql, pathtools, graphql-core\n",
            "  Building wheel for watchdog (setup.py) ... \u001b[?25l\u001b[?25hdone\n",
            "  Created wheel for watchdog: filename=watchdog-0.10.3-cp36-none-any.whl size=73873 sha256=98e996d0c8ed2983f0c62417471c3a87f44a76d8afd4f781db0785f83245fab9\n",
            "  Stored in directory: /root/.cache/pip/wheels/a8/1d/38/2c19bb311f67cc7b4d07a2ec5ea36ab1a0a0ea50db994a5bc7\n",
            "  Building wheel for subprocess32 (setup.py) ... \u001b[?25l\u001b[?25hdone\n",
            "  Created wheel for subprocess32: filename=subprocess32-3.5.4-cp36-none-any.whl size=6489 sha256=130f78f5528d9eeb93258956c8c611c7f5ddc1772aaf52e13c53576de8bb4214\n",
            "  Stored in directory: /root/.cache/pip/wheels/68/39/1a/5e402bdfdf004af1786c8b853fd92f8c4a04f22aad179654d1\n",
            "  Building wheel for gql (setup.py) ... \u001b[?25l\u001b[?25hdone\n",
            "  Created wheel for gql: filename=gql-0.2.0-cp36-none-any.whl size=7630 sha256=9073384cfe24e167b8da4912ceaaa3f320a7071d435774a6880046ca198cd7d0\n",
            "  Stored in directory: /root/.cache/pip/wheels/ce/0e/7b/58a8a5268655b3ad74feef5aa97946f0addafb3cbb6bd2da23\n",
            "  Building wheel for pathtools (setup.py) ... \u001b[?25l\u001b[?25hdone\n",
            "  Created wheel for pathtools: filename=pathtools-0.1.2-cp36-none-any.whl size=8785 sha256=49f38dd4b2aad35cb5c72f34bcb347cc90b7a1055256894b1d05dc7c3b3825f1\n",
            "  Stored in directory: /root/.cache/pip/wheels/0b/04/79/c3b0c3a0266a3cb4376da31e5bfe8bba0c489246968a68e843\n",
            "  Building wheel for graphql-core (setup.py) ... \u001b[?25l\u001b[?25hdone\n",
            "  Created wheel for graphql-core: filename=graphql_core-1.1-cp36-none-any.whl size=104651 sha256=a1bd47923d266c77c3bb9b5a746a3192524675830dfb310862f55af31ddc7ccd\n",
            "  Stored in directory: /root/.cache/pip/wheels/45/99/d7/c424029bb0fe910c63b68dbf2aa20d3283d023042521bcd7d5\n",
            "Successfully built watchdog subprocess32 gql pathtools graphql-core\n",
            "Installing collected packages: shortuuid, docker-pycreds, configparser, pathtools, watchdog, subprocess32, sentry-sdk, graphql-core, gql, smmap, gitdb, GitPython, wandb\n",
            "Successfully installed GitPython-3.1.7 configparser-5.0.0 docker-pycreds-0.4.0 gitdb-4.0.5 gql-0.2.0 graphql-core-1.1 pathtools-0.1.2 sentry-sdk-0.17.2 shortuuid-1.0.1 smmap-3.0.4 subprocess32-3.5.4 wandb-0.9.6 watchdog-0.10.3\n"
          ],
          "name": "stdout"
        },
        {
          "output_type": "display_data",
          "data": {
            "application/vnd.colab-display-data+json": {
              "pip_warning": {
                "packages": [
                  "configparser"
                ]
              }
            }
          },
          "metadata": {
            "tags": []
          }
        }
      ]
    },
    {
      "cell_type": "code",
      "metadata": {
        "id": "OXhzr-ddTytT",
        "outputId": "dc2a89e3-0671-4399-d0fe-960892fd0c52",
        "colab": {
          "base_uri": "https://localhost:8080/"
        }
      },
      "source": [
        "!wandb login d3214840db57c8ceb248f2168774d9d01ddd1d3c"
      ],
      "execution_count": null,
      "outputs": [
        {
          "output_type": "stream",
          "text": [
            "\u001b[34m\u001b[1mwandb\u001b[0m: Appending key for api.wandb.ai to your netrc file: /root/.netrc\n",
            "\u001b[32mSuccessfully logged in to Weights & Biases!\u001b[0m\n"
          ],
          "name": "stdout"
        }
      ]
    },
    {
      "cell_type": "markdown",
      "metadata": {
        "id": "q2DUzfTBVGDh"
      },
      "source": [
        "##imports"
      ]
    },
    {
      "cell_type": "code",
      "metadata": {
        "id": "5KQyzsfVTSu7",
        "outputId": "d7bf7800-d2b2-4265-e9e5-63ab5c59616a",
        "colab": {
          "base_uri": "https://localhost:8080/",
          "height": 119
        }
      },
      "source": [
        "from sklearn.linear_model import SGDClassifier\n",
        "from sklearn.svm import SVC\n",
        "from sklearn import metrics\n",
        "from pprint import pprint\n",
        "from sklearn.preprocessing import MultiLabelBinarizer\n",
        "import tensorflow as tf\n",
        "import tensorflow_hub as hub\n",
        "import numpy as np\n",
        "import os, sys\n",
        "import pandas as pd\n",
        "from sklearn.metrics.pairwise import cosine_similarity\n",
        "from collections import defaultdict\n",
        "from nltk.stem import WordNetLemmatizer\n",
        "from nltk.corpus import names\n",
        "import nltk\n",
        "nltk.download('names')\n",
        "nltk.download('wordnet')\n",
        "nltk.download('stopwords')\n",
        "from nltk import word_tokenize\n",
        "from nltk.stem.porter import PorterStemmer\n",
        "from nltk.corpus import stopwords\n",
        "import re \n",
        "from nltk.corpus import stopwords\n",
        "#from sklearn.datasets import fetch_rcv1\n"
      ],
      "execution_count": null,
      "outputs": [
        {
          "output_type": "stream",
          "text": [
            "[nltk_data] Downloading package names to /root/nltk_data...\n",
            "[nltk_data]   Package names is already up-to-date!\n",
            "[nltk_data] Downloading package wordnet to /root/nltk_data...\n",
            "[nltk_data]   Package wordnet is already up-to-date!\n",
            "[nltk_data] Downloading package stopwords to /root/nltk_data...\n",
            "[nltk_data]   Package stopwords is already up-to-date!\n"
          ],
          "name": "stdout"
        }
      ]
    },
    {
      "cell_type": "markdown",
      "metadata": {
        "id": "LftfGaf7VxA5"
      },
      "source": [
        "<h1>First DataSets</h1>"
      ]
    },
    {
      "cell_type": "code",
      "metadata": {
        "id": "IlsdfEhcTa5U"
      },
      "source": [
        "from sklearn.datasets import fetch_20newsgroups\n",
        "import pandas as pd\n",
        "def twenty_newsgroup_to_csv(data,name):\n",
        "    newsgroups_train = fetch_20newsgroups(subset= data , remove=('headers', 'footers', 'quotes'))\n",
        "\n",
        "    df = pd.DataFrame([newsgroups_train.data, newsgroups_train.target.tolist()]).T\n",
        "    df.columns = ['text', 'target']\n",
        "\n",
        "    targets = pd.DataFrame( newsgroups_train.target_names)\n",
        "    targets.columns=['title']\n",
        "\n",
        "    out = pd.merge(df, targets, left_on='target', right_index=True)\n",
        "    out['date'] = pd.to_datetime('now')\n",
        "    out.to_csv(name+'.csv')\n",
        "\n",
        "twenty_newsgroup_to_csv('train','train')\n",
        "twenty_newsgroup_to_csv('test','test')"
      ],
      "execution_count": null,
      "outputs": []
    },
    {
      "cell_type": "code",
      "metadata": {
        "id": "IUh0cOm6VOTn"
      },
      "source": [
        "df = pd.read_csv(\"train.csv\")\n",
        "df_test = pd.read_csv(\"test.csv\")"
      ],
      "execution_count": null,
      "outputs": []
    },
    {
      "cell_type": "code",
      "metadata": {
        "id": "ZTKU_zQ0VQQF"
      },
      "source": [
        "df.dropna(subset = [\"text\"], inplace=True)\n",
        "df_test.dropna(subset = [\"text\"], inplace=True)"
      ],
      "execution_count": null,
      "outputs": []
    },
    {
      "cell_type": "code",
      "metadata": {
        "id": "TfCWwSQaVR2U"
      },
      "source": [
        "all_names = names.words()\n",
        "WNL = WordNetLemmatizer()\n",
        "def clean(data):\n",
        "    cleaned = defaultdict(list)\n",
        "    count = 0\n",
        "    for group in data:\n",
        "        for words in group.split():\n",
        "            if words.isalpha() and words not in all_names:\n",
        "                cleaned[count].append(WNL.lemmatize(words.lower()))\n",
        "        cleaned[count] = ' '.join(cleaned[count])\n",
        "        count +=1 \n",
        "    return(list(cleaned.values()))"
      ],
      "execution_count": null,
      "outputs": []
    },
    {
      "cell_type": "code",
      "metadata": {
        "id": "-caJuK8-VT-e"
      },
      "source": [
        "df['text'] = clean(df['text'])\n",
        "df_test['text'] = clean(df_test['text'])"
      ],
      "execution_count": null,
      "outputs": []
    },
    {
      "cell_type": "code",
      "metadata": {
        "id": "ecqTmBE_VYB3",
        "outputId": "6cc47fc7-50f3-4d23-a577-fc22be24df79",
        "colab": {
          "base_uri": "https://localhost:8080/",
          "height": 51
        }
      },
      "source": [
        "print(len(df))\n",
        "print(len(df_test))\n"
      ],
      "execution_count": null,
      "outputs": [
        {
          "output_type": "stream",
          "text": [
            "11096\n",
            "7370\n"
          ],
          "name": "stdout"
        }
      ]
    },
    {
      "cell_type": "code",
      "metadata": {
        "id": "7Cfx_qrTc4uZ"
      },
      "source": [
        "df.drop(labels=['target','date'],axis=1,inplace=True)\n"
      ],
      "execution_count": null,
      "outputs": []
    },
    {
      "cell_type": "code",
      "metadata": {
        "id": "3mSVxTOLdYgF"
      },
      "source": [
        "df_test.drop(labels=['target','date'],axis=1,inplace=True)\n"
      ],
      "execution_count": null,
      "outputs": []
    },
    {
      "cell_type": "markdown",
      "metadata": {
        "id": "IC8WTXSKWG4Y"
      },
      "source": [
        "<h1>Second Dataset</h1>"
      ]
    },
    {
      "cell_type": "code",
      "metadata": {
        "id": "VnQjj487WGV1",
        "outputId": "92684f61-7975-4414-97f3-8275a9eb0eec",
        "colab": {
          "base_uri": "https://localhost:8080/",
          "height": 85
        }
      },
      "source": [
        "nltk.download('reuters')\n",
        "nltk.download('punkt')\n",
        "from nltk.corpus import stopwords, reuters"
      ],
      "execution_count": null,
      "outputs": [
        {
          "output_type": "stream",
          "text": [
            "[nltk_data] Downloading package reuters to /root/nltk_data...\n",
            "[nltk_data]   Package reuters is already up-to-date!\n",
            "[nltk_data] Downloading package punkt to /root/nltk_data...\n",
            "[nltk_data]   Package punkt is already up-to-date!\n"
          ],
          "name": "stdout"
        }
      ]
    },
    {
      "cell_type": "code",
      "metadata": {
        "id": "9qNHmTA4WGZt"
      },
      "source": [
        "documents = reuters.fileids()\n",
        " \n",
        "train_docs_id = list(filter(lambda doc: doc.startswith(\"train\"),\n",
        "                            documents))\n",
        "test_docs_id = list(filter(lambda doc: doc.startswith(\"test\"),\n",
        "                           documents))\n",
        " \n",
        "train_docs = [reuters.raw(doc_id) for doc_id in train_docs_id]\n",
        "test_docs = [reuters.raw(doc_id) for doc_id in test_docs_id]"
      ],
      "execution_count": null,
      "outputs": []
    },
    {
      "cell_type": "code",
      "metadata": {
        "id": "qWlWSSVnWvni"
      },
      "source": [
        "docs_pdf_train = pd.DataFrame(train_docs) \n",
        "docs_pdf_test = pd.DataFrame(test_docs) \n",
        "docs_pdf_train['text'] = pd.DataFrame(train_docs) \n",
        "docs_pdf_test['text'] = pd.DataFrame(test_docs) \n",
        "docs_pdf_train.drop([docs_pdf_train.columns[0]], axis ='columns',inplace=True)\n",
        "docs_pdf_test.drop([docs_pdf_test.columns[0]], axis ='columns',inplace=True)\n",
        "docs_pdf_train.dropna(inplace=True)\n",
        "docs_pdf_test.dropna(inplace=True)"
      ],
      "execution_count": null,
      "outputs": []
    },
    {
      "cell_type": "code",
      "metadata": {
        "id": "k9fJXsNgWxXl"
      },
      "source": [
        "docs_pdf_train.dropna(subset = [\"text\"], inplace=True)\n",
        "docs_pdf_train.replace(r'-', ' ', regex=True,inplace=True)\n",
        "docs_pdf_train.replace(r'\\t', ' ', regex=True,inplace=True)\n",
        "docs_pdf_train.replace(r'\\n', ' ', regex=True,inplace=True)\n",
        "docs_pdf_train.replace(r'   ', ' ', regex=True,inplace=True)\n",
        "docs_pdf_test.replace(r'-', ' ', regex=True,inplace=True)\n",
        "docs_pdf_test.replace(r'\\t', ' ', regex=True,inplace=True)\n",
        "docs_pdf_test.replace(r'\\n', ' ', regex=True,inplace=True)\n",
        "docs_pdf_test.replace(r'   ', ' ', regex=True,inplace=True)"
      ],
      "execution_count": null,
      "outputs": []
    },
    {
      "cell_type": "code",
      "metadata": {
        "id": "qhPS757oWzAE"
      },
      "source": [
        "docs_pdf_train['text'] = clean(docs_pdf_train['text'])\n",
        "docs_pdf_test['text'] = clean(docs_pdf_test['text'])"
      ],
      "execution_count": null,
      "outputs": []
    },
    {
      "cell_type": "code",
      "metadata": {
        "id": "rz_dt1BFW-wj"
      },
      "source": [
        "train_labels = [reuters.categories(doc_id)for doc_id in train_docs_id]\n",
        "test_labels = [reuters.categories(doc_id)for doc_id in test_docs_id]"
      ],
      "execution_count": null,
      "outputs": []
    },
    {
      "cell_type": "code",
      "metadata": {
        "id": "Rm-V3oLvXf0X"
      },
      "source": [
        "achedStopWords = stopwords.words(\"english\")\n",
        " \n",
        "def tokenize(text):\n",
        "  min_length = 3\n",
        "  words = map(lambda word: word.lower(), word_tokenize(text))\n",
        "  words = [word for word in words if word not in achedStopWords]\n",
        "  tokens = (list(map(lambda token: PorterStemmer().stem(token),\n",
        "                                   words)))\n",
        "  p = re.compile('[a-zA-Z]+');\n",
        "  filtered_tokens =list(filter (lambda token: p.match(token) and\n",
        "                               len(token) >= min_length,\n",
        "                               tokens))\n",
        "  return filtered_tokens\n",
        "\n",
        "def word_tokenizer():\n",
        "  tokenize_docs = []\n",
        "  docs_tokens = docs_pdf_train['text'].tolist()\n",
        "  length = len(docs_tokens)\n",
        "  for i in range(length):\n",
        "    tokenize_docs.append(tokenize(docs_tokens[i]))\n",
        "  return tokenize_docs"
      ],
      "execution_count": null,
      "outputs": []
    },
    {
      "cell_type": "code",
      "metadata": {
        "id": "nGBstEu1Xlg7"
      },
      "source": [
        "tokenize_docs = word_tokenizer()"
      ],
      "execution_count": null,
      "outputs": []
    },
    {
      "cell_type": "code",
      "metadata": {
        "id": "0ZbeJ_w7XnJV"
      },
      "source": [
        "def word_tokenizer_test():\n",
        "  tokenize_docs = []\n",
        "  docs_tokens = docs_pdf_test['text'].tolist()\n",
        "  length = len(docs_tokens)\n",
        "  for i in range(length):\n",
        "    tokenize_docs.append(tokenize(docs_tokens[i]))\n",
        "  return tokenize_docs"
      ],
      "execution_count": null,
      "outputs": []
    },
    {
      "cell_type": "code",
      "metadata": {
        "id": "Qrk2e6C-Yigy"
      },
      "source": [
        "tokenize_docs_test = word_tokenizer_test()"
      ],
      "execution_count": null,
      "outputs": []
    },
    {
      "cell_type": "code",
      "metadata": {
        "id": "IX5V-zHeZBRO"
      },
      "source": [
        "df_train_2=pd.DataFrame(docs_pdf_train,columns=['text'])\n",
        "df_train_2['target']=''\n",
        "df_train_2['target']=train_labels\n"
      ],
      "execution_count": null,
      "outputs": []
    },
    {
      "cell_type": "code",
      "metadata": {
        "id": "WlA8Zg9lZS8b",
        "outputId": "df9c038e-8bd7-46c0-87ac-9e2ad78f8aba",
        "colab": {
          "base_uri": "https://localhost:8080/",
          "height": 419
        }
      },
      "source": [
        "df_test_2=pd.DataFrame(docs_pdf_test,columns=['text'])\n",
        "df_test_2['target']=''\n",
        "df_test_2['target']=test_labels\n",
        "df_test_2"
      ],
      "execution_count": null,
      "outputs": [
        {
          "output_type": "execute_result",
          "data": {
            "text/html": [
              "<div>\n",
              "<style scoped>\n",
              "    .dataframe tbody tr th:only-of-type {\n",
              "        vertical-align: middle;\n",
              "    }\n",
              "\n",
              "    .dataframe tbody tr th {\n",
              "        vertical-align: top;\n",
              "    }\n",
              "\n",
              "    .dataframe thead th {\n",
              "        text-align: right;\n",
              "    }\n",
              "</style>\n",
              "<table border=\"1\" class=\"dataframe\">\n",
              "  <thead>\n",
              "    <tr style=\"text-align: right;\">\n",
              "      <th></th>\n",
              "      <th>text</th>\n",
              "      <th>target</th>\n",
              "    </tr>\n",
              "  </thead>\n",
              "  <tbody>\n",
              "    <tr>\n",
              "      <th>0</th>\n",
              "      <td>asian exporter fear damage from japan rift mou...</td>\n",
              "      <td>[trade]</td>\n",
              "    </tr>\n",
              "    <tr>\n",
              "      <th>1</th>\n",
              "      <td>china daily say vermin eat pct grain stock a s...</td>\n",
              "      <td>[grain]</td>\n",
              "    </tr>\n",
              "    <tr>\n",
              "      <th>2</th>\n",
              "      <td>japan to revise long term energy demand downwa...</td>\n",
              "      <td>[crude, nat-gas]</td>\n",
              "    </tr>\n",
              "    <tr>\n",
              "      <th>3</th>\n",
              "      <td>thai trade deficit widens in first quarter tra...</td>\n",
              "      <td>[corn, grain, rice, rubber, sugar, tin, trade]</td>\n",
              "    </tr>\n",
              "    <tr>\n",
              "      <th>4</th>\n",
              "      <td>indonesia see cpo price rising sharply indones...</td>\n",
              "      <td>[palm-oil, veg-oil]</td>\n",
              "    </tr>\n",
              "    <tr>\n",
              "      <th>...</th>\n",
              "      <td>...</td>\n",
              "      <td>...</td>\n",
              "    </tr>\n",
              "    <tr>\n",
              "      <th>3014</th>\n",
              "      <td>chase corp make offer for entregrowth corp ltd...</td>\n",
              "      <td>[acq]</td>\n",
              "    </tr>\n",
              "    <tr>\n",
              "      <th>3015</th>\n",
              "      <td>tokyo dealer see dollar poised to breach yen f...</td>\n",
              "      <td>[dlr, money-fx, yen]</td>\n",
              "    </tr>\n",
              "    <tr>\n",
              "      <th>3016</th>\n",
              "      <td>conference cut gulf war risk charge the pakist...</td>\n",
              "      <td>[ship]</td>\n",
              "    </tr>\n",
              "    <tr>\n",
              "      <th>3017</th>\n",
              "      <td>soviet industrial slower in the soviet industr...</td>\n",
              "      <td>[ipi]</td>\n",
              "    </tr>\n",
              "    <tr>\n",
              "      <th>3018</th>\n",
              "      <td>six killed in south african gold mine accident...</td>\n",
              "      <td>[gold]</td>\n",
              "    </tr>\n",
              "  </tbody>\n",
              "</table>\n",
              "<p>3019 rows × 2 columns</p>\n",
              "</div>"
            ],
            "text/plain": [
              "                                                   text                                          target\n",
              "0     asian exporter fear damage from japan rift mou...                                         [trade]\n",
              "1     china daily say vermin eat pct grain stock a s...                                         [grain]\n",
              "2     japan to revise long term energy demand downwa...                                [crude, nat-gas]\n",
              "3     thai trade deficit widens in first quarter tra...  [corn, grain, rice, rubber, sugar, tin, trade]\n",
              "4     indonesia see cpo price rising sharply indones...                             [palm-oil, veg-oil]\n",
              "...                                                 ...                                             ...\n",
              "3014  chase corp make offer for entregrowth corp ltd...                                           [acq]\n",
              "3015  tokyo dealer see dollar poised to breach yen f...                            [dlr, money-fx, yen]\n",
              "3016  conference cut gulf war risk charge the pakist...                                          [ship]\n",
              "3017  soviet industrial slower in the soviet industr...                                           [ipi]\n",
              "3018  six killed in south african gold mine accident...                                          [gold]\n",
              "\n",
              "[3019 rows x 2 columns]"
            ]
          },
          "metadata": {
            "tags": []
          },
          "execution_count": 30
        }
      ]
    },
    {
      "cell_type": "code",
      "metadata": {
        "id": "H80bi5mJdij8"
      },
      "source": [
        "df_train_2.rename(columns={'target':'title'},inplace=True)\n",
        "df_test_2.rename(columns={'target':'title'},inplace=True)\n"
      ],
      "execution_count": null,
      "outputs": []
    },
    {
      "cell_type": "code",
      "metadata": {
        "id": "WtSPEEMJbkT2"
      },
      "source": [
        "frames_train=[df,df_train_2]\n",
        "frames_test=[df_test,df_test_2]\n",
        "all_dataframes_train=pd.concat(frames_train,keys=['x','y'])\n",
        "all_dataframes_test=pd.concat(frames_test,keys=['x','y'])\n"
      ],
      "execution_count": null,
      "outputs": []
    },
    {
      "cell_type": "code",
      "metadata": {
        "id": "6hD4urXUcO-j"
      },
      "source": [
        "all_dataframes_train.drop(labels='Unnamed: 0',inplace=True,axis=1)\n",
        "all_dataframes_test.drop(labels='Unnamed: 0',inplace=True,axis=1)"
      ],
      "execution_count": null,
      "outputs": []
    },
    {
      "cell_type": "markdown",
      "metadata": {
        "id": "LC1-CTjwf73w"
      },
      "source": [
        "##Bert"
      ]
    },
    {
      "cell_type": "code",
      "metadata": {
        "id": "ByKWd3XifaR-"
      },
      "source": [
        "import wandb\n",
        "from wandb.keras import WandbCallback\n",
        "wandb.init(project=\"gru-bert\")"
      ],
      "execution_count": null,
      "outputs": []
    },
    {
      "cell_type": "code",
      "metadata": {
        "id": "d5v3uYAsgKhg"
      },
      "source": [
        "!pip install 'kashgari>=2.0.0a0'\t"
      ],
      "execution_count": null,
      "outputs": []
    },
    {
      "cell_type": "code",
      "metadata": {
        "id": "ypzt10uwf-PA"
      },
      "source": [
        "import logging\n",
        "from kashgari.embeddings import BertEmbedding\n",
        "from kashgari.tasks.classification import BiGRU_Model\n",
        "from kashgari.tasks.classification import BiLSTM_Model\n"
      ],
      "execution_count": null,
      "outputs": []
    },
    {
      "cell_type": "code",
      "metadata": {
        "id": "lSVnaPskgF9U"
      },
      "source": [
        "logging.basicConfig(level='DEBUG')\n"
      ],
      "execution_count": null,
      "outputs": []
    },
    {
      "cell_type": "code",
      "metadata": {
        "id": "EjsemvPngPWn",
        "outputId": "425db7cc-3526-4f04-8455-de276eb3cac7",
        "colab": {
          "base_uri": "https://localhost:8080/",
          "height": 204
        }
      },
      "source": [
        "!wget https://storage.googleapis.com/bert_models/2018_10_18/uncased_L-12_H-768_A-12.zip"
      ],
      "execution_count": null,
      "outputs": [
        {
          "output_type": "stream",
          "text": [
            "--2020-09-01 16:28:47--  https://storage.googleapis.com/bert_models/2018_10_18/uncased_L-12_H-768_A-12.zip\n",
            "Resolving storage.googleapis.com (storage.googleapis.com)... 74.125.142.128, 74.125.195.128, 74.125.20.128, ...\n",
            "Connecting to storage.googleapis.com (storage.googleapis.com)|74.125.142.128|:443... connected.\n",
            "HTTP request sent, awaiting response... 200 OK\n",
            "Length: 407727028 (389M) [application/zip]\n",
            "Saving to: ‘uncased_L-12_H-768_A-12.zip.1’\n",
            "\n",
            "uncased_L-12_H-768_ 100%[===================>] 388.84M   191MB/s    in 2.0s    \n",
            "\n",
            "2020-09-01 16:28:49 (191 MB/s) - ‘uncased_L-12_H-768_A-12.zip.1’ saved [407727028/407727028]\n",
            "\n"
          ],
          "name": "stdout"
        }
      ]
    },
    {
      "cell_type": "code",
      "metadata": {
        "id": "1NeVZMiSgSBB",
        "outputId": "28cd5f87-9d22-4423-b705-942a7433652a",
        "colab": {
          "base_uri": "https://localhost:8080/",
          "height": 51
        }
      },
      "source": [
        "!unzip '/content/uncased_L-12_H-768_A-12.zip'"
      ],
      "execution_count": null,
      "outputs": [
        {
          "output_type": "stream",
          "text": [
            "Archive:  /content/uncased_L-12_H-768_A-12.zip\n",
            "replace uncased_L-12_H-768_A-12/bert_model.ckpt.meta? [y]es, [n]o, [A]ll, [N]one, [r]ename: "
          ],
          "name": "stdout"
        }
      ]
    },
    {
      "cell_type": "code",
      "metadata": {
        "id": "TVabElOcgTp4",
        "outputId": "f91a435a-ee41-439f-a0f1-869d160c52c8",
        "colab": {
          "base_uri": "https://localhost:8080/",
          "height": 156
        }
      },
      "source": [
        "bert_embed = BertEmbedding('/content/uncased_L-12_H-768_A-12')"
      ],
      "execution_count": null,
      "outputs": [
        {
          "output_type": "stream",
          "text": [
            "2020-09-01 17:48:14,596 [DEBUG] kashgari - ------------------------------------------------\n",
            "2020-09-01 17:48:14,596 [DEBUG] kashgari - Loaded transformer model's vocab\n",
            "2020-09-01 17:48:14,599 [DEBUG] kashgari - config_path       : /content/uncased_L-12_H-768_A-12/bert_config.json\n",
            "2020-09-01 17:48:14,600 [DEBUG] kashgari - vocab_path      : /content/uncased_L-12_H-768_A-12/vocab.txt\n",
            "2020-09-01 17:48:14,601 [DEBUG] kashgari - checkpoint_path : /content/uncased_L-12_H-768_A-12/bert_model.ckpt\n",
            "2020-09-01 17:48:14,603 [DEBUG] kashgari - Top 50 words    : ['[PAD]', '[unused0]', '[unused1]', '[unused2]', '[unused3]', '[unused4]', '[unused5]', '[unused6]', '[unused7]', '[unused8]', '[unused9]', '[unused10]', '[unused11]', '[unused12]', '[unused13]', '[unused14]', '[unused15]', '[unused16]', '[unused17]', '[unused18]', '[unused19]', '[unused20]', '[unused21]', '[unused22]', '[unused23]', '[unused24]', '[unused25]', '[unused26]', '[unused27]', '[unused28]', '[unused29]', '[unused30]', '[unused31]', '[unused32]', '[unused33]', '[unused34]', '[unused35]', '[unused36]', '[unused37]', '[unused38]', '[unused39]', '[unused40]', '[unused41]', '[unused42]', '[unused43]', '[unused44]', '[unused45]', '[unused46]', '[unused47]', '[unused48]']\n",
            "2020-09-01 17:48:14,603 [DEBUG] kashgari - ------------------------------------------------\n"
          ],
          "name": "stderr"
        }
      ]
    },
    {
      "cell_type": "code",
      "metadata": {
        "id": "EV_emcz0gVvg"
      },
      "source": [
        "model = BiLSTM_Model(bert_embed, sequence_length=400, multi_label=True)"
      ],
      "execution_count": null,
      "outputs": []
    },
    {
      "cell_type": "code",
      "metadata": {
        "id": "SMr2gDSMgi2x"
      },
      "source": [
        "toknize_train=all_dataframes_train['text'].tolist()\n",
        "toknize_train=[i.split(' ') for i in toknize_train]"
      ],
      "execution_count": null,
      "outputs": []
    },
    {
      "cell_type": "code",
      "metadata": {
        "id": "_XgK9Bi4gju6"
      },
      "source": [
        "modifed_list_labels=all_dataframes_train['title'][:11096].tolist()\n",
        "modifed_list_labels=[[i] for i in modifed_list_labels]\n"
      ],
      "execution_count": null,
      "outputs": []
    },
    {
      "cell_type": "code",
      "metadata": {
        "id": "Rr7s-vOGoKtg"
      },
      "source": [
        "all_dataframes_train['title'][:11096]=modifed_list_labels\n",
        "train_labels_=all_dataframes_train['title'].tolist()\n"
      ],
      "execution_count": null,
      "outputs": []
    },
    {
      "cell_type": "code",
      "metadata": {
        "id": "ttWV252whBCw"
      },
      "source": [
        "toknize_test=all_dataframes_test['text'].tolist()\n",
        "toknize_test=[i.split(' ') for i in toknize_test]\n"
      ],
      "execution_count": null,
      "outputs": []
    },
    {
      "cell_type": "code",
      "metadata": {
        "id": "QFKoNncbibH0"
      },
      "source": [
        "modifed_list_labels_test=all_dataframes_test['title'][:7370].tolist()\n",
        "modifed_list_labels_test=[[i] for i in modifed_list_labels_test]\n",
        "all_dataframes_test['title'][:7370]=modifed_list_labels_test\n",
        "test_labels_=all_dataframes_test['title'].tolist()\n"
      ],
      "execution_count": null,
      "outputs": []
    },
    {
      "cell_type": "code",
      "metadata": {
        "id": "jro7aZ4AgYio"
      },
      "source": [
        "model.fit(toknize_train,train_labels_,toknize_test,test_labels_,epochs=35)"
      ],
      "execution_count": null,
      "outputs": []
    },
    {
      "cell_type": "code",
      "metadata": {
        "id": "xfzSX05vr-l4"
      },
      "source": [
        "model.save(\"LSTM\")"
      ],
      "execution_count": null,
      "outputs": []
    },
    {
      "cell_type": "code",
      "metadata": {
        "id": "QTymvzVAadFa"
      },
      "source": [
        "!mkdir '/content/LSTM' \n",
        "!cp  '/content/drive/My Drive/Model_weights/embed_model_weights.h5' '/content/LSTM'\n",
        "!cp  '/content/drive/My Drive/Model_weights/model_config.json' '/content/LSTM'\n",
        "!cp  '/content/drive/My Drive/Model_weights/model_weights.h5' '/content/LSTM'\n"
      ],
      "execution_count": null,
      "outputs": []
    },
    {
      "cell_type": "code",
      "metadata": {
        "id": "hKd8k3nxyu1G",
        "outputId": "82eeaceb-fbbd-48a6-adf5-a8dd549e63f7",
        "colab": {
          "base_uri": "https://localhost:8080/",
          "height": 156
        }
      },
      "source": [
        "\n",
        "loaded_model = BiLSTM_Model.load_model('/content/LSTM/')"
      ],
      "execution_count": null,
      "outputs": [
        {
          "output_type": "stream",
          "text": [
            "2020-09-01 17:51:13,866 [DEBUG] kashgari - ------------------------------------------------\n",
            "2020-09-01 17:51:13,867 [DEBUG] kashgari - Loaded transformer model's vocab\n",
            "2020-09-01 17:51:13,868 [DEBUG] kashgari - config_path       : /content/uncased_L-12_H-768_A-12/bert_config.json\n",
            "2020-09-01 17:51:13,870 [DEBUG] kashgari - vocab_path      : /content/uncased_L-12_H-768_A-12/vocab.txt\n",
            "2020-09-01 17:51:13,871 [DEBUG] kashgari - checkpoint_path : /content/uncased_L-12_H-768_A-12/bert_model.ckpt\n",
            "2020-09-01 17:51:13,872 [DEBUG] kashgari - Top 50 words    : ['[PAD]', '[unused0]', '[unused1]', '[unused2]', '[unused3]', '[unused4]', '[unused5]', '[unused6]', '[unused7]', '[unused8]', '[unused9]', '[unused10]', '[unused11]', '[unused12]', '[unused13]', '[unused14]', '[unused15]', '[unused16]', '[unused17]', '[unused18]', '[unused19]', '[unused20]', '[unused21]', '[unused22]', '[unused23]', '[unused24]', '[unused25]', '[unused26]', '[unused27]', '[unused28]', '[unused29]', '[unused30]', '[unused31]', '[unused32]', '[unused33]', '[unused34]', '[unused35]', '[unused36]', '[unused37]', '[unused38]', '[unused39]', '[unused40]', '[unused41]', '[unused42]', '[unused43]', '[unused44]', '[unused45]', '[unused46]', '[unused47]', '[unused48]']\n",
            "2020-09-01 17:51:13,873 [DEBUG] kashgari - ------------------------------------------------\n"
          ],
          "name": "stderr"
        }
      ]
    },
    {
      "cell_type": "code",
      "metadata": {
        "id": "6x_qJMLXYjBs"
      },
      "source": [
        "def predict(docs):\n",
        "  tokenize_docs = []\n",
        "  df=pd.DataFrame([docs],columns=['text'])\n",
        "  docs_tokens = df['text'].tolist()\n",
        "  length = len(docs_tokens)\n",
        "  for i in range(length):\n",
        "    tokenize_docs.append(tokenize(docs_tokens[i]))\n",
        "  return tokenize_docs"
      ],
      "execution_count": null,
      "outputs": []
    },
    {
      "cell_type": "code",
      "metadata": {
        "id": "ge6kaDKzZ7MP",
        "outputId": "0ea9960c-1148-4e0d-b310-1fec7e8e6873",
        "colab": {
          "base_uri": "https://localhost:8080/",
          "height": 255
        }
      },
      "source": [
        "loaded_model.predict([nltk_tokens])"
      ],
      "execution_count": null,
      "outputs": [
        {
          "output_type": "stream",
          "text": [
            "2020-09-01 18:08:44,835 [DEBUG] kashgari - predict input shape (2, 1, 62) x: \n",
            "(array([[  101,   100, 13058,   100,  5658,   100, 14931,  1058, 14931,\n",
            "         5658,  1058,  5096,   100,  1058,   100,   100,   100,   100,\n",
            "         1058,   100,  3157,   100,   100, 14931,  1058, 14931,  5658,\n",
            "          100,  1058,   100,  5096,   100,  1058,   100,   100,   100,\n",
            "          100,  1058,   100,   100,  2566,  3745, 11138,   100,  1997,\n",
            "         2048,   100,  3745,  1999,  3988,  2270,  3157,   100,  2765,\n",
            "         2421,  9313,  5114,  1997,   100,  2030, 14931,   102]],\n",
            "      dtype=int32), array([[0, 0, 0, 0, 0, 0, 0, 0, 0, 0, 0, 0, 0, 0, 0, 0, 0, 0, 0, 0, 0, 0,\n",
            "        0, 0, 0, 0, 0, 0, 0, 0, 0, 0, 0, 0, 0, 0, 0, 0, 0, 0, 0, 0, 0, 0,\n",
            "        0, 0, 0, 0, 0, 0, 0, 0, 0, 0, 0, 0, 0, 0, 0, 0, 0, 0]],\n",
            "      dtype=int32))\n",
            "2020-09-01 18:08:44,907 [DEBUG] kashgari - predict output shape (1, 110)\n"
          ],
          "name": "stderr"
        },
        {
          "output_type": "execute_result",
          "data": {
            "text/plain": [
              "[['earn']]"
            ]
          },
          "metadata": {
            "tags": []
          },
          "execution_count": 256
        }
      ]
    },
    {
      "cell_type": "code",
      "metadata": {
        "id": "OkFtf1vr3CZY",
        "outputId": "e6104158-be12-49a5-a69d-e415fd044faf",
        "colab": {
          "base_uri": "https://localhost:8080/",
          "height": 1000
        }
      },
      "source": [
        "loaded_model.evaluate(toknize_test,test_labels_)"
      ],
      "execution_count": null,
      "outputs": [
        {
          "output_type": "stream",
          "text": [
            "2020-09-01 18:10:17,533 [DEBUG] kashgari - predict input shape (2, 10389, 512) x: \n",
            "(array([[ 101, 1045, 2572, ...,    0,    0,    0],\n",
            "       [ 101, 1045, 2031, ...,    0,    0,    0],\n",
            "       [ 101, 1045, 2342, ...,    0,    0,    0],\n",
            "       ...,\n",
            "       [ 101, 3034, 3013, ...,    0,    0,    0],\n",
            "       [ 101, 3354, 3919, ...,    0,    0,    0],\n",
            "       [ 101, 2416, 2730, ...,    0,    0,    0]], dtype=int32), array([[0, 0, 0, ..., 0, 0, 0],\n",
            "       [0, 0, 0, ..., 0, 0, 0],\n",
            "       [0, 0, 0, ..., 0, 0, 0],\n",
            "       ...,\n",
            "       [0, 0, 0, ..., 0, 0, 0],\n",
            "       [0, 0, 0, ..., 0, 0, 0],\n",
            "       [0, 0, 0, ..., 0, 0, 0]], dtype=int32))\n",
            "2020-09-01 18:17:21,525 [DEBUG] kashgari - predict output shape (10389, 110)\n",
            "/usr/local/lib/python3.6/dist-packages/sklearn/metrics/_classification.py:1272: UndefinedMetricWarning: Precision is ill-defined and being set to 0.0 due to no predicted samples. Use `zero_division` parameter to control this behavior.\n",
            "  _warn_prf(average, modifier, msg_start, len(result))\n"
          ],
          "name": "stderr"
        },
        {
          "output_type": "stream",
          "text": [
            "                      precision    recall  f1-score   support\n",
            "                earn     0.9709    0.9825    0.9767      1087\n",
            "                 acq     0.9677    0.9583    0.9630       719\n",
            "      comp.windows.x     0.4296    0.5964    0.4995       394\n",
            "    rec.sport.hockey     0.9121    0.7143    0.8011       392\n",
            "soc.religion.christian     0.5245    0.8010    0.6339       387\n",
            "     rec.motorcycles     0.9403    0.3214    0.4791       392\n",
            "comp.sys.ibm.pc.hardware     0.5000    0.0052    0.0102       387\n",
            "        misc.forsale     0.8287    0.6108    0.7033       388\n",
            "             sci.med     0.9623    0.5312    0.6846       384\n",
            "  rec.sport.baseball     0.7622    0.6909    0.7248       385\n",
            "           sci.crypt     0.4503    0.6518    0.5326       382\n",
            "           sci.space     0.9820    0.4282    0.5964       383\n",
            "     sci.electronics     0.5520    0.3603    0.4360       383\n",
            "comp.os.ms-windows.misc     1.0000    0.0026    0.0052       382\n",
            "       comp.graphics     0.7683    0.1641    0.2704       384\n",
            "           rec.autos     0.8696    0.4762    0.6154       378\n",
            "comp.sys.mac.hardware     0.8485    0.0749    0.1376       374\n",
            "talk.politics.mideast     0.7402    0.7105    0.7250       373\n",
            "  talk.politics.guns     0.6716    0.1264    0.2128       356\n",
            "         alt.atheism     0.0000    0.0000    0.0000       313\n",
            "  talk.politics.misc     0.4337    0.3941    0.4130       307\n",
            "            money-fx     0.7826    0.8045    0.7934       179\n",
            "  talk.religion.misc     0.0000    0.0000    0.0000       246\n",
            "               grain     0.9493    0.8792    0.9129       149\n",
            "               crude     0.7637    0.9577    0.8498       189\n",
            "               trade     0.8053    0.7778    0.7913       117\n",
            "            interest     0.7801    0.8397    0.8088       131\n",
            "                ship     0.7973    0.6629    0.7239        89\n",
            "               wheat     0.9259    0.7042    0.8000        71\n",
            "                corn     0.8000    0.7857    0.7928        56\n",
            "                 dlr     0.8333    0.4545    0.5882        44\n",
            "        money-supply     0.7500    0.8824    0.8108        34\n",
            "             oilseed     0.7000    0.2979    0.4179        47\n",
            "               sugar     0.9615    0.6944    0.8065        36\n",
            "              coffee     0.9615    0.8929    0.9259        28\n",
            "                 gnp     0.8333    0.7143    0.7692        35\n",
            "             veg-oil     0.8421    0.4324    0.5714        37\n",
            "                gold     0.8095    0.5667    0.6667        30\n",
            "             soybean     0.5000    0.0909    0.1538        33\n",
            "             nat-gas     0.7059    0.4000    0.5106        30\n",
            "                 bop     0.6500    0.4333    0.5200        30\n",
            "           livestock     0.6667    0.6667    0.6667        24\n",
            "                 cpi     0.9286    0.4643    0.6190        28\n",
            "               cocoa     1.0000    0.9444    0.9714        18\n",
            "            reserves     0.9091    0.5556    0.6897        18\n",
            "             carcass     0.7143    0.5556    0.6250        18\n",
            "                jobs     1.0000    0.5714    0.7273        21\n",
            "              copper     1.0000    0.4444    0.6154        18\n",
            "              cotton     0.8571    0.3000    0.4444        20\n",
            "                 yen     0.7500    0.2143    0.3333        14\n",
            "                rice     0.8889    0.3333    0.4848        24\n",
            "                alum     0.9091    0.4348    0.5882        23\n",
            "                 gas     0.8571    0.7059    0.7742        17\n",
            "          iron-steel     0.8571    0.4286    0.5714        14\n",
            "                 ipi     0.9231    1.0000    0.9600        12\n",
            "              barley     0.6250    0.3571    0.4545        14\n",
            "           meal-feed     0.0000    0.0000    0.0000        19\n",
            "              rubber     1.0000    0.5833    0.7368        12\n",
            "            palm-oil     0.7143    0.5000    0.5882        10\n",
            "             sorghum     1.0000    0.1000    0.1818        10\n",
            "                zinc     0.8889    0.6154    0.7273        13\n",
            "            pet-chem     0.0000    0.0000    0.0000        12\n",
            "                 tin     1.0000    0.4167    0.5882        12\n",
            "                lead     0.8571    0.4286    0.5714        14\n",
            "              silver     0.0000    0.0000    0.0000         8\n",
            "                 wpi     1.0000    0.7000    0.8235        10\n",
            "     strategic-metal     0.0000    0.0000    0.0000        11\n",
            "            rapeseed     1.0000    0.4444    0.6154         9\n",
            "              orange     1.0000    0.5455    0.7059        11\n",
            "            soy-meal     0.0000    0.0000    0.0000        13\n",
            "             soy-oil     0.0000    0.0000    0.0000        11\n",
            "              retail     1.0000    0.5000    0.6667         2\n",
            "                fuel     0.6667    0.2000    0.3077        10\n",
            "                 hog     0.5000    0.3333    0.4000         6\n",
            "             housing     1.0000    0.5000    0.6667         4\n",
            "                heat     0.6667    0.4000    0.5000         5\n",
            "              income     1.0000    0.2857    0.4444         7\n",
            "             sunseed     0.0000    0.0000    0.0000         5\n",
            "              lumber     1.0000    0.1667    0.2857         6\n",
            "                 lei     1.0000    0.6667    0.8000         3\n",
            "                 dmk     0.0000    0.0000    0.0000         4\n",
            "                 oat     1.0000    0.1667    0.2857         6\n",
            "                 tea     0.0000    0.0000    0.0000         4\n",
            "            platinum     0.0000    0.0000    0.0000         7\n",
            "              nickel     0.0000    0.0000    0.0000         1\n",
            "           groundnut     0.0000    0.0000    0.0000         4\n",
            "            rape-oil     0.0000    0.0000    0.0000         3\n",
            "            l-cattle     0.0000    0.0000    0.0000         2\n",
            "             sun-oil     0.0000    0.0000    0.0000         2\n",
            "         coconut-oil     0.0000    0.0000    0.0000         3\n",
            "             propane     0.0000    0.0000    0.0000         3\n",
            "             coconut     0.0000    0.0000    0.0000         2\n",
            "         instal-debt     0.0000    0.0000    0.0000         1\n",
            "              potato     0.0000    0.0000    0.0000         3\n",
            "             naphtha     0.0000    0.0000    0.0000         4\n",
            "                 jet     0.0000    0.0000    0.0000         1\n",
            "               nzdlr     0.0000    0.0000    0.0000         2\n",
            "                 cpu     0.0000    0.0000    0.0000         1\n",
            "                 dfl     0.0000    0.0000    0.0000         1\n",
            "          palmkernel     0.0000    0.0000    0.0000         1\n",
            "                 nkr     0.0000    0.0000    0.0000         2\n",
            "          copra-cake     0.0000    0.0000    0.0000         1\n",
            "           palladium     0.0000    0.0000    0.0000         1\n",
            "          cotton-oil     0.0000    0.0000    0.0000         2\n",
            "                rand     0.0000    0.0000    0.0000         1\n",
            "          castor-oil     0.0000    0.0000    0.0000         1\n",
            "            sun-meal     0.0000    0.0000    0.0000         1\n",
            "       groundnut-oil     0.0000    0.0000    0.0000         1\n",
            "             lin-oil     0.0000    0.0000    0.0000         1\n",
            "                 rye     0.0000    0.0000    0.0000         1\n",
            "           macro avg     0.7415    0.5302    0.5646     11114\n",
            "\n"
          ],
          "name": "stdout"
        },
        {
          "output_type": "execute_result",
          "data": {
            "text/plain": [
              "{'detail': {'acq': {'f1': 0.962962962962963,\n",
              "   'precision': 0.9676966292134831,\n",
              "   'recall': 0.9582753824756607,\n",
              "   'support': 719},\n",
              "  'alt.atheism': {'f1': 0.0, 'precision': 0.0, 'recall': 0.0, 'support': 313},\n",
              "  'alum': {'f1': 0.5882352941176471,\n",
              "   'precision': 0.9090909090909091,\n",
              "   'recall': 0.43478260869565216,\n",
              "   'support': 23},\n",
              "  'barley': {'f1': 0.45454545454545453,\n",
              "   'precision': 0.625,\n",
              "   'recall': 0.35714285714285715,\n",
              "   'support': 14},\n",
              "  'bop': {'f1': 0.5199999999999999,\n",
              "   'precision': 0.65,\n",
              "   'recall': 0.43333333333333335,\n",
              "   'support': 30},\n",
              "  'carcass': {'f1': 0.6250000000000001,\n",
              "   'precision': 0.7142857142857143,\n",
              "   'recall': 0.5555555555555556,\n",
              "   'support': 18},\n",
              "  'castor-oil': {'f1': 0.0, 'precision': 0.0, 'recall': 0.0, 'support': 1},\n",
              "  'cocoa': {'f1': 0.9714285714285714,\n",
              "   'precision': 1.0,\n",
              "   'recall': 0.9444444444444444,\n",
              "   'support': 18},\n",
              "  'coconut': {'f1': 0.0, 'precision': 0.0, 'recall': 0.0, 'support': 2},\n",
              "  'coconut-oil': {'f1': 0.0, 'precision': 0.0, 'recall': 0.0, 'support': 3},\n",
              "  'coffee': {'f1': 0.9259259259259259,\n",
              "   'precision': 0.9615384615384616,\n",
              "   'recall': 0.8928571428571429,\n",
              "   'support': 28},\n",
              "  'comp.graphics': {'f1': 0.27038626609442057,\n",
              "   'precision': 0.7682926829268293,\n",
              "   'recall': 0.1640625,\n",
              "   'support': 384},\n",
              "  'comp.os.ms-windows.misc': {'f1': 0.005221932114882507,\n",
              "   'precision': 1.0,\n",
              "   'recall': 0.002617801047120419,\n",
              "   'support': 382},\n",
              "  'comp.sys.ibm.pc.hardware': {'f1': 0.010230179028132991,\n",
              "   'precision': 0.5,\n",
              "   'recall': 0.00516795865633075,\n",
              "   'support': 387},\n",
              "  'comp.sys.mac.hardware': {'f1': 0.1375921375921376,\n",
              "   'precision': 0.8484848484848485,\n",
              "   'recall': 0.0748663101604278,\n",
              "   'support': 374},\n",
              "  'comp.windows.x': {'f1': 0.4994686503719448,\n",
              "   'precision': 0.4296160877513711,\n",
              "   'recall': 0.5964467005076142,\n",
              "   'support': 394},\n",
              "  'copper': {'f1': 0.6153846153846153,\n",
              "   'precision': 1.0,\n",
              "   'recall': 0.4444444444444444,\n",
              "   'support': 18},\n",
              "  'copra-cake': {'f1': 0.0, 'precision': 0.0, 'recall': 0.0, 'support': 1},\n",
              "  'corn': {'f1': 0.7927927927927927,\n",
              "   'precision': 0.8,\n",
              "   'recall': 0.7857142857142857,\n",
              "   'support': 56},\n",
              "  'cotton': {'f1': 0.4444444444444444,\n",
              "   'precision': 0.8571428571428571,\n",
              "   'recall': 0.3,\n",
              "   'support': 20},\n",
              "  'cotton-oil': {'f1': 0.0, 'precision': 0.0, 'recall': 0.0, 'support': 2},\n",
              "  'cpi': {'f1': 0.6190476190476191,\n",
              "   'precision': 0.9285714285714286,\n",
              "   'recall': 0.4642857142857143,\n",
              "   'support': 28},\n",
              "  'cpu': {'f1': 0.0, 'precision': 0.0, 'recall': 0.0, 'support': 1},\n",
              "  'crude': {'f1': 0.8497652582159624,\n",
              "   'precision': 0.7637130801687764,\n",
              "   'recall': 0.9576719576719577,\n",
              "   'support': 189},\n",
              "  'dfl': {'f1': 0.0, 'precision': 0.0, 'recall': 0.0, 'support': 1},\n",
              "  'dlr': {'f1': 0.5882352941176471,\n",
              "   'precision': 0.8333333333333334,\n",
              "   'recall': 0.45454545454545453,\n",
              "   'support': 44},\n",
              "  'dmk': {'f1': 0.0, 'precision': 0.0, 'recall': 0.0, 'support': 4},\n",
              "  'earn': {'f1': 0.9766803840877916,\n",
              "   'precision': 0.9709090909090909,\n",
              "   'recall': 0.9825206991720331,\n",
              "   'support': 1087},\n",
              "  'fuel': {'f1': 0.30769230769230765,\n",
              "   'precision': 0.6666666666666666,\n",
              "   'recall': 0.2,\n",
              "   'support': 10},\n",
              "  'gas': {'f1': 0.7741935483870968,\n",
              "   'precision': 0.8571428571428571,\n",
              "   'recall': 0.7058823529411765,\n",
              "   'support': 17},\n",
              "  'gnp': {'f1': 0.7692307692307692,\n",
              "   'precision': 0.8333333333333334,\n",
              "   'recall': 0.7142857142857143,\n",
              "   'support': 35},\n",
              "  'gold': {'f1': 0.6666666666666666,\n",
              "   'precision': 0.8095238095238095,\n",
              "   'recall': 0.5666666666666667,\n",
              "   'support': 30},\n",
              "  'grain': {'f1': 0.9128919860627177,\n",
              "   'precision': 0.9492753623188406,\n",
              "   'recall': 0.8791946308724832,\n",
              "   'support': 149},\n",
              "  'groundnut': {'f1': 0.0, 'precision': 0.0, 'recall': 0.0, 'support': 4},\n",
              "  'groundnut-oil': {'f1': 0.0, 'precision': 0.0, 'recall': 0.0, 'support': 1},\n",
              "  'heat': {'f1': 0.5,\n",
              "   'precision': 0.6666666666666666,\n",
              "   'recall': 0.4,\n",
              "   'support': 5},\n",
              "  'hog': {'f1': 0.4,\n",
              "   'precision': 0.5,\n",
              "   'recall': 0.3333333333333333,\n",
              "   'support': 6},\n",
              "  'housing': {'f1': 0.6666666666666666,\n",
              "   'precision': 1.0,\n",
              "   'recall': 0.5,\n",
              "   'support': 4},\n",
              "  'income': {'f1': 0.4444444444444445,\n",
              "   'precision': 1.0,\n",
              "   'recall': 0.2857142857142857,\n",
              "   'support': 7},\n",
              "  'instal-debt': {'f1': 0.0, 'precision': 0.0, 'recall': 0.0, 'support': 1},\n",
              "  'interest': {'f1': 0.8088235294117647,\n",
              "   'precision': 0.7801418439716312,\n",
              "   'recall': 0.8396946564885496,\n",
              "   'support': 131},\n",
              "  'ipi': {'f1': 0.9600000000000001,\n",
              "   'precision': 0.9230769230769231,\n",
              "   'recall': 1.0,\n",
              "   'support': 12},\n",
              "  'iron-steel': {'f1': 0.5714285714285714,\n",
              "   'precision': 0.8571428571428571,\n",
              "   'recall': 0.42857142857142855,\n",
              "   'support': 14},\n",
              "  'jet': {'f1': 0.0, 'precision': 0.0, 'recall': 0.0, 'support': 1},\n",
              "  'jobs': {'f1': 0.7272727272727273,\n",
              "   'precision': 1.0,\n",
              "   'recall': 0.5714285714285714,\n",
              "   'support': 21},\n",
              "  'l-cattle': {'f1': 0.0, 'precision': 0.0, 'recall': 0.0, 'support': 2},\n",
              "  'lead': {'f1': 0.5714285714285714,\n",
              "   'precision': 0.8571428571428571,\n",
              "   'recall': 0.42857142857142855,\n",
              "   'support': 14},\n",
              "  'lei': {'f1': 0.8,\n",
              "   'precision': 1.0,\n",
              "   'recall': 0.6666666666666666,\n",
              "   'support': 3},\n",
              "  'lin-oil': {'f1': 0.0, 'precision': 0.0, 'recall': 0.0, 'support': 1},\n",
              "  'livestock': {'f1': 0.6666666666666666,\n",
              "   'precision': 0.6666666666666666,\n",
              "   'recall': 0.6666666666666666,\n",
              "   'support': 24},\n",
              "  'lumber': {'f1': 0.2857142857142857,\n",
              "   'precision': 1.0,\n",
              "   'recall': 0.16666666666666666,\n",
              "   'support': 6},\n",
              "  'meal-feed': {'f1': 0.0, 'precision': 0.0, 'recall': 0.0, 'support': 19},\n",
              "  'misc.forsale': {'f1': 0.7032640949554896,\n",
              "   'precision': 0.8286713286713286,\n",
              "   'recall': 0.6108247422680413,\n",
              "   'support': 388},\n",
              "  'money-fx': {'f1': 0.7933884297520662,\n",
              "   'precision': 0.782608695652174,\n",
              "   'recall': 0.8044692737430168,\n",
              "   'support': 179},\n",
              "  'money-supply': {'f1': 0.8108108108108107,\n",
              "   'precision': 0.75,\n",
              "   'recall': 0.8823529411764706,\n",
              "   'support': 34},\n",
              "  'naphtha': {'f1': 0.0, 'precision': 0.0, 'recall': 0.0, 'support': 4},\n",
              "  'nat-gas': {'f1': 0.5106382978723405,\n",
              "   'precision': 0.7058823529411765,\n",
              "   'recall': 0.4,\n",
              "   'support': 30},\n",
              "  'nickel': {'f1': 0.0, 'precision': 0.0, 'recall': 0.0, 'support': 1},\n",
              "  'nkr': {'f1': 0.0, 'precision': 0.0, 'recall': 0.0, 'support': 2},\n",
              "  'nzdlr': {'f1': 0.0, 'precision': 0.0, 'recall': 0.0, 'support': 2},\n",
              "  'oat': {'f1': 0.2857142857142857,\n",
              "   'precision': 1.0,\n",
              "   'recall': 0.16666666666666666,\n",
              "   'support': 6},\n",
              "  'oilseed': {'f1': 0.417910447761194,\n",
              "   'precision': 0.7,\n",
              "   'recall': 0.2978723404255319,\n",
              "   'support': 47},\n",
              "  'orange': {'f1': 0.7058823529411764,\n",
              "   'precision': 1.0,\n",
              "   'recall': 0.5454545454545454,\n",
              "   'support': 11},\n",
              "  'palladium': {'f1': 0.0, 'precision': 0.0, 'recall': 0.0, 'support': 1},\n",
              "  'palm-oil': {'f1': 0.588235294117647,\n",
              "   'precision': 0.7142857142857143,\n",
              "   'recall': 0.5,\n",
              "   'support': 10},\n",
              "  'palmkernel': {'f1': 0.0, 'precision': 0.0, 'recall': 0.0, 'support': 1},\n",
              "  'pet-chem': {'f1': 0.0, 'precision': 0.0, 'recall': 0.0, 'support': 12},\n",
              "  'platinum': {'f1': 0.0, 'precision': 0.0, 'recall': 0.0, 'support': 7},\n",
              "  'potato': {'f1': 0.0, 'precision': 0.0, 'recall': 0.0, 'support': 3},\n",
              "  'propane': {'f1': 0.0, 'precision': 0.0, 'recall': 0.0, 'support': 3},\n",
              "  'rand': {'f1': 0.0, 'precision': 0.0, 'recall': 0.0, 'support': 1},\n",
              "  'rape-oil': {'f1': 0.0, 'precision': 0.0, 'recall': 0.0, 'support': 3},\n",
              "  'rapeseed': {'f1': 0.6153846153846153,\n",
              "   'precision': 1.0,\n",
              "   'recall': 0.4444444444444444,\n",
              "   'support': 9},\n",
              "  'rec.autos': {'f1': 0.6153846153846153,\n",
              "   'precision': 0.8695652173913043,\n",
              "   'recall': 0.47619047619047616,\n",
              "   'support': 378},\n",
              "  'rec.motorcycles': {'f1': 0.47908745247148293,\n",
              "   'precision': 0.9402985074626866,\n",
              "   'recall': 0.32142857142857145,\n",
              "   'support': 392},\n",
              "  'rec.sport.baseball': {'f1': 0.7247956403269755,\n",
              "   'precision': 0.7621776504297995,\n",
              "   'recall': 0.6909090909090909,\n",
              "   'support': 385},\n",
              "  'rec.sport.hockey': {'f1': 0.8011444921316165,\n",
              "   'precision': 0.9120521172638436,\n",
              "   'recall': 0.7142857142857143,\n",
              "   'support': 392},\n",
              "  'reserves': {'f1': 0.6896551724137931,\n",
              "   'precision': 0.9090909090909091,\n",
              "   'recall': 0.5555555555555556,\n",
              "   'support': 18},\n",
              "  'retail': {'f1': 0.6666666666666666,\n",
              "   'precision': 1.0,\n",
              "   'recall': 0.5,\n",
              "   'support': 2},\n",
              "  'rice': {'f1': 0.48484848484848486,\n",
              "   'precision': 0.8888888888888888,\n",
              "   'recall': 0.3333333333333333,\n",
              "   'support': 24},\n",
              "  'rubber': {'f1': 0.7368421052631579,\n",
              "   'precision': 1.0,\n",
              "   'recall': 0.5833333333333334,\n",
              "   'support': 12},\n",
              "  'rye': {'f1': 0.0, 'precision': 0.0, 'recall': 0.0, 'support': 1},\n",
              "  'sci.crypt': {'f1': 0.532620320855615,\n",
              "   'precision': 0.45027124773960214,\n",
              "   'recall': 0.6518324607329843,\n",
              "   'support': 382},\n",
              "  'sci.electronics': {'f1': 0.4360189573459716,\n",
              "   'precision': 0.552,\n",
              "   'recall': 0.360313315926893,\n",
              "   'support': 383},\n",
              "  'sci.med': {'f1': 0.6845637583892618,\n",
              "   'precision': 0.9622641509433962,\n",
              "   'recall': 0.53125,\n",
              "   'support': 384},\n",
              "  'sci.space': {'f1': 0.5963636363636363,\n",
              "   'precision': 0.9820359281437125,\n",
              "   'recall': 0.4281984334203655,\n",
              "   'support': 383},\n",
              "  'ship': {'f1': 0.7239263803680981,\n",
              "   'precision': 0.7972972972972973,\n",
              "   'recall': 0.6629213483146067,\n",
              "   'support': 89},\n",
              "  'silver': {'f1': 0.0, 'precision': 0.0, 'recall': 0.0, 'support': 8},\n",
              "  'soc.religion.christian': {'f1': 0.6339468302658486,\n",
              "   'precision': 0.5245346869712352,\n",
              "   'recall': 0.8010335917312662,\n",
              "   'support': 387},\n",
              "  'sorghum': {'f1': 0.18181818181818182,\n",
              "   'precision': 1.0,\n",
              "   'recall': 0.1,\n",
              "   'support': 10},\n",
              "  'soy-meal': {'f1': 0.0, 'precision': 0.0, 'recall': 0.0, 'support': 13},\n",
              "  'soy-oil': {'f1': 0.0, 'precision': 0.0, 'recall': 0.0, 'support': 11},\n",
              "  'soybean': {'f1': 0.15384615384615385,\n",
              "   'precision': 0.5,\n",
              "   'recall': 0.09090909090909091,\n",
              "   'support': 33},\n",
              "  'strategic-metal': {'f1': 0.0,\n",
              "   'precision': 0.0,\n",
              "   'recall': 0.0,\n",
              "   'support': 11},\n",
              "  'sugar': {'f1': 0.8064516129032258,\n",
              "   'precision': 0.9615384615384616,\n",
              "   'recall': 0.6944444444444444,\n",
              "   'support': 36},\n",
              "  'sun-meal': {'f1': 0.0, 'precision': 0.0, 'recall': 0.0, 'support': 1},\n",
              "  'sun-oil': {'f1': 0.0, 'precision': 0.0, 'recall': 0.0, 'support': 2},\n",
              "  'sunseed': {'f1': 0.0, 'precision': 0.0, 'recall': 0.0, 'support': 5},\n",
              "  'talk.politics.guns': {'f1': 0.2127659574468085,\n",
              "   'precision': 0.6716417910447762,\n",
              "   'recall': 0.12640449438202248,\n",
              "   'support': 356},\n",
              "  'talk.politics.mideast': {'f1': 0.7250341997264022,\n",
              "   'precision': 0.7402234636871509,\n",
              "   'recall': 0.710455764075067,\n",
              "   'support': 373},\n",
              "  'talk.politics.misc': {'f1': 0.41296928327645055,\n",
              "   'precision': 0.4336917562724014,\n",
              "   'recall': 0.3941368078175896,\n",
              "   'support': 307},\n",
              "  'talk.religion.misc': {'f1': 0.0,\n",
              "   'precision': 0.0,\n",
              "   'recall': 0.0,\n",
              "   'support': 246},\n",
              "  'tea': {'f1': 0.0, 'precision': 0.0, 'recall': 0.0, 'support': 4},\n",
              "  'tin': {'f1': 0.5882352941176471,\n",
              "   'precision': 1.0,\n",
              "   'recall': 0.4166666666666667,\n",
              "   'support': 12},\n",
              "  'trade': {'f1': 0.7913043478260869,\n",
              "   'precision': 0.8053097345132744,\n",
              "   'recall': 0.7777777777777778,\n",
              "   'support': 117},\n",
              "  'veg-oil': {'f1': 0.5714285714285715,\n",
              "   'precision': 0.8421052631578947,\n",
              "   'recall': 0.43243243243243246,\n",
              "   'support': 37},\n",
              "  'wheat': {'f1': 0.7999999999999999,\n",
              "   'precision': 0.9259259259259259,\n",
              "   'recall': 0.704225352112676,\n",
              "   'support': 71},\n",
              "  'wpi': {'f1': 0.8235294117647058,\n",
              "   'precision': 1.0,\n",
              "   'recall': 0.7,\n",
              "   'support': 10},\n",
              "  'yen': {'f1': 0.3333333333333333,\n",
              "   'precision': 0.75,\n",
              "   'recall': 0.21428571428571427,\n",
              "   'support': 14},\n",
              "  'zinc': {'f1': 0.7272727272727274,\n",
              "   'precision': 0.8888888888888888,\n",
              "   'recall': 0.6153846153846154,\n",
              "   'support': 13}},\n",
              " 'f1-score': 0.5646481803703589,\n",
              " 'precision': 0.7414827154806805,\n",
              " 'recall': 0.5302321396436926,\n",
              " 'support': 11114}"
            ]
          },
          "metadata": {
            "tags": []
          },
          "execution_count": 257
        }
      ]
    },
    {
      "cell_type": "code",
      "metadata": {
        "id": "nFhPC2q9zpsm",
        "outputId": "e8f57954-1776-4fe8-86f5-feee5f2c7f3a",
        "colab": {
          "base_uri": "https://localhost:8080/",
          "height": 34
        }
      },
      "source": [
        "all_dataframes_test['title'][10360]"
      ],
      "execution_count": null,
      "outputs": [
        {
          "output_type": "execute_result",
          "data": {
            "text/plain": [
              "['money-fx']"
            ]
          },
          "metadata": {
            "tags": []
          },
          "execution_count": 179
        }
      ]
    },
    {
      "cell_type": "code",
      "metadata": {
        "id": "3s6-rJGlq9BH"
      },
      "source": [
        "nltk_tokens = nltk.word_tokenize(text)\n"
      ],
      "execution_count": null,
      "outputs": []
    },
    {
      "cell_type": "code",
      "metadata": {
        "id": "hbh2CiAi0E_I"
      },
      "source": [
        "x=all_dataframes_test['text'][10360]\n"
      ],
      "execution_count": null,
      "outputs": []
    },
    {
      "cell_type": "code",
      "metadata": {
        "id": "ykcqh6DN0pyK"
      },
      "source": [
        "text=all_dataframes_test['text'][10001]"
      ],
      "execution_count": null,
      "outputs": []
    },
    {
      "cell_type": "code",
      "metadata": {
        "id": "QScrCCpl2r87",
        "outputId": "764cae2b-ad6b-408b-e881-15e11a810630",
        "colab": {
          "base_uri": "https://localhost:8080/",
          "height": 69
        }
      },
      "source": [
        "text"
      ],
      "execution_count": null,
      "outputs": [
        {
          "output_type": "execute_result",
          "data": {
            "application/vnd.google.colaboratory.intrinsic+json": {
              "type": "string"
            },
            "text/plain": [
              "'jepson corp qtr net shr ct v ct net v sale mln v mln avg shrs mln v mln nine mths shr ct v ct net mln v mln sale mln v mln avg shrs mln v mln qtr per share reflects issuance of two mln share in initial public nine mth result include extraordinary gain of dlrs or ct'"
            ]
          },
          "metadata": {
            "tags": []
          },
          "execution_count": 253
        }
      ]
    },
    {
      "cell_type": "code",
      "metadata": {
        "id": "od1HY3sr6JLz"
      },
      "source": [
        "all_dataframes_train.to_csv(\"train_allDatasets.csv\")\n",
        "all_dataframes_test.to_csv(\"test_allDatasets.csv\")\n"
      ],
      "execution_count": null,
      "outputs": []
    },
    {
      "cell_type": "code",
      "metadata": {
        "id": "h1eT7Wij6Vf_"
      },
      "source": [
        "!cp '/content/train_allDatasets.csv' '/content/drive/My Drive/'\n",
        "!cp '/content/test_allDatasets.csv' '/content/drive/My Drive/'"
      ],
      "execution_count": null,
      "outputs": []
    },
    {
      "cell_type": "code",
      "metadata": {
        "id": "vJVFQ1gr6rQH"
      },
      "source": [
        ""
      ],
      "execution_count": null,
      "outputs": []
    }
  ]
}