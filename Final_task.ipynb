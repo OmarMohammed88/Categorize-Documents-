{
  "nbformat": 4,
  "nbformat_minor": 0,
  "metadata": {
    "colab": {
      "name": "Final_task.ipynb",
      "provenance": [],
      "collapsed_sections": [],
      "toc_visible": true,
      "mount_file_id": "1FeT2-RNrCb8Eq0aSK7h3li3-xSUH23iC",
      "authorship_tag": "ABX9TyP0susmyx5BSMsZs0GLoXfO",
      "include_colab_link": true
    },
    "kernelspec": {
      "name": "python3",
      "display_name": "Python 3"
    },
    "accelerator": "GPU"
  },
  "cells": [
    {
      "cell_type": "markdown",
      "metadata": {
        "id": "view-in-github",
        "colab_type": "text"
      },
      "source": [
        "<a href=\"https://colab.research.google.com/github/OmarMohammed88/NLP_Tasks/blob/main/Final_task.ipynb\" target=\"_parent\"><img src=\"https://colab.research.google.com/assets/colab-badge.svg\" alt=\"Open In Colab\"/></a>"
      ]
    },
    {
      "cell_type": "markdown",
      "metadata": {
        "id": "8c2QfhsY-dPM"
      },
      "source": [
        "##Imports"
      ]
    },
    {
      "cell_type": "code",
      "metadata": {
        "id": "MCiS5iUT6wSS"
      },
      "source": [
        "!pip install 'kashgari>=2.0.0a0'\t\n",
        "\n",
        "from sklearn.linear_model import SGDClassifier\n",
        "from sklearn.svm import SVC\n",
        "from sklearn import metrics\n",
        "from pprint import pprint\n",
        "from sklearn.preprocessing import MultiLabelBinarizer\n",
        "import numpy as np\n",
        "import os, sys\n",
        "import pandas as pd\n",
        "from sklearn.metrics.pairwise import cosine_similarity\n",
        "from collections import defaultdict\n",
        "from nltk.stem import WordNetLemmatizer\n",
        "from nltk.corpus import names\n",
        "import nltk\n",
        "nltk.download('names')\n",
        "nltk.download('wordnet')\n",
        "nltk.download('stopwords')\n",
        "nltk.download('punkt')\n",
        "\n",
        "from nltk import word_tokenize\n",
        "from nltk.stem.porter import PorterStemmer\n",
        "from nltk.corpus import stopwords\n",
        "import re \n",
        "from nltk.corpus import stopwords\n",
        "from nltk.tokenize import word_tokenize\n",
        "from sklearn.linear_model import SGDClassifier\n",
        "from sklearn.svm import SVC\n",
        "from sklearn import metrics\n",
        "from pprint import pprint\n",
        "from sklearn.preprocessing import MultiLabelBinarizer\n",
        "import numpy as np\n",
        "import os, sys\n",
        "import pandas as pd\n",
        "from sklearn.metrics.pairwise import cosine_similarity\n",
        "from collections import defaultdict\n",
        "from nltk.stem import WordNetLemmatizer\n",
        "from nltk.corpus import names\n",
        "import nltk\n",
        "from nltk.corpus import stopwords\n",
        "import pickle\n",
        "from numpy import load\n",
        "!pip install -U -q PyDrive\n",
        "from pydrive.auth import GoogleAuth\n",
        "from pydrive.drive import GoogleDrive\n",
        "from google.colab import auth\n",
        "from oauth2client.client import GoogleCredentials\n",
        "from google.colab import drive\n",
        "import tensorflow_hub as hub\n",
        "import logging\n",
        "from kashgari.embeddings import BertEmbedding\n",
        "from kashgari.tasks.classification import BiGRU_Model\n",
        "from kashgari.tasks.classification import BiLSTM_Model\n",
        "\n",
        "#from sklearn.datasets import fetch_rcv1\n"
      ],
      "execution_count": null,
      "outputs": []
    },
    {
      "cell_type": "markdown",
      "metadata": {
        "id": "z8ZvdFq1-hIO"
      },
      "source": [
        "##Connect To GoogleDrive"
      ]
    },
    {
      "cell_type": "code",
      "metadata": {
        "id": "0tDvO4me9DLk"
      },
      "source": [
        "auth.authenticate_user()\n",
        "gauth = GoogleAuth()\n",
        "gauth.credentials = GoogleCredentials.get_application_default()\n",
        "drive = GoogleDrive(gauth)"
      ],
      "execution_count": null,
      "outputs": []
    },
    {
      "cell_type": "code",
      "metadata": {
        "id": "g5fVJ3H39DIi"
      },
      "source": [
        "downloaded1 = drive.CreateFile({'id':'17zk-HB6q0-VtQL3ihGbYunaMsP_aUD5m'}) # replace the id with id of file you want to access\n",
        "downloaded1.GetContentFile('train_allDatasets.csv')\n",
        "downloaded2 = drive.CreateFile({'id':'1ayRhXLb0vwR_nSJI6UmQtg8fh_6pPDZ-'}) # replace the id with id of file you want to access\n",
        "downloaded2.GetContentFile('test_allDatasets.csv')\n",
        "downloaded3 = drive.CreateFile({'id':'1-53tpEvaSoBOHYeKjsBWWmPLb1QQikym'}) # replace the id with id of file you want to access\n",
        "downloaded3.GetContentFile('20_group_train.csv')\n",
        "downloaded4 = drive.CreateFile({'id':'1-0Ium54F1rD-BJl0tPS-RGw2OlsAztuC'}) # replace the id with id of file you want to access\n",
        "downloaded4.GetContentFile('20_group_test.csv')\n"
      ],
      "execution_count": null,
      "outputs": []
    },
    {
      "cell_type": "code",
      "metadata": {
        "id": "yTHwkSL39DCh"
      },
      "source": [
        "df_train=pd.read_csv('train_allDatasets.csv')\n",
        "df_test=pd.read_csv('test_allDatasets.csv')\n",
        "df_train_groub=pd.read_csv('20_group_train.csv')\n",
        "df_test_groub=pd.read_csv('20_group_test.csv')\n"
      ],
      "execution_count": null,
      "outputs": []
    },
    {
      "cell_type": "markdown",
      "metadata": {
        "id": "C1VEeCU--X38"
      },
      "source": [
        "#Load DataSets"
      ]
    },
    {
      "cell_type": "code",
      "metadata": {
        "id": "M_g-aJPI7E01"
      },
      "source": [
        "df_train.drop(labels=['Unnamed: 0','Unnamed: 1'],axis=1,inplace=True)\n",
        "df_test.drop(labels=['Unnamed: 0','Unnamed: 1'],axis=1,inplace=True)\n",
        "df_train_groub.drop(labels=['Unnamed: 0','Unnamed: 0.1'],axis=1,inplace=True)\n",
        "df_test_groub.drop(labels=['Unnamed: 0','Unnamed: 0.1'],axis=1,inplace=True)"
      ],
      "execution_count": null,
      "outputs": []
    },
    {
      "cell_type": "markdown",
      "metadata": {
        "id": "LkEjPrKm-aUv"
      },
      "source": [
        "##load Bert model and USE "
      ]
    },
    {
      "cell_type": "code",
      "metadata": {
        "id": "ycjQ1gO8AQBI"
      },
      "source": [
        "downloaded_use_test= drive.CreateFile({'id':'1-8k0U_P4uLIG_AE8HL9hcSLj6S-fKFgI'}) # replace the id with id of file you want to access\n",
        "downloaded_use_test.GetContentFile('sentences_embeddings_test.npy')\n",
        "downloaded_use_train= drive.CreateFile({'id':'1-5JtBIYoHcP_JyHvPwr_4AxBFcqBj5_f'}) # replace the id with id of file you want to access\n",
        "downloaded_use_train.GetContentFile('sentences_embeddings.npy')\n",
        "downloaded_weights_use= drive.CreateFile({'id':'1-37yEoxL8v9Yck4S3DbfcPw-99RaUHVL'}) # replace the id with id of file you want to access\n",
        "downloaded_weights_use.GetContentFile('finalized_model.sav')\n",
        "\n"
      ],
      "execution_count": null,
      "outputs": []
    },
    {
      "cell_type": "code",
      "metadata": {
        "id": "uw09iH7QLEed"
      },
      "source": [
        "# Upload to your drive\n",
        "!mkdir '/content/LSTM'  \n",
        "!cp  '/content/drive/My Drive/Model_weights/embed_model_weights.h5' '/content/LSTM'\n",
        "!cp  '/content/drive/My Drive/Model_weights/model_config.json' '/content/LSTM'\n",
        "!cp  '/content/drive/My Drive/Model_weights/model_weights.h5' '/content/LSTM'\n"
      ],
      "execution_count": null,
      "outputs": []
    },
    {
      "cell_type": "markdown",
      "metadata": {
        "id": "19YQawoNNfAX"
      },
      "source": [
        "##USE ALGORITHM\n"
      ]
    },
    {
      "cell_type": "code",
      "metadata": {
        "id": "xmyR5JFJOqZK"
      },
      "source": [
        "\n",
        "embed = hub.load(\"https://tfhub.dev/google/universal-sentence-encoder/4\")"
      ],
      "execution_count": null,
      "outputs": []
    },
    {
      "cell_type": "code",
      "metadata": {
        "id": "4k3Vq8ipOP8v"
      },
      "source": [
        "sentences_embeddings=load('/content/sentences_embeddings.npy')\n",
        "sentences_embeddings_test=load('/content/sentences_embeddings_test.npy')\n"
      ],
      "execution_count": null,
      "outputs": []
    },
    {
      "cell_type": "code",
      "metadata": {
        "id": "c8g7OUkiOP5f"
      },
      "source": [
        "loaded_model_use = pickle.load(open('/content/finalized_model.sav', 'rb'))\n"
      ],
      "execution_count": null,
      "outputs": []
    },
    {
      "cell_type": "code",
      "metadata": {
        "id": "sCHjb2yqRC7U"
      },
      "source": [
        "Dict = {1: 'Atheism', 2: 'computer Graphics', 3: 'computer windows ',4:'computer.pc.hardware',5:'computer.system.mac.hardware',6:'computer.windows.x',7:'misc.forsale',8:'rec.autos',9:'rec.motorcycles',10:'rec.sport.baseball',11:'rec.sport.hockey',12:'sci.crypt',13:'sci.electronics',14:'sci.med',15:'sci.space',16:'soc.religion.christian',17:'talk.politics.guns',18:'talk.politics.mideast',19:'talk.politics.misc',20:'talk.religion.misc'}\n"
      ],
      "execution_count": null,
      "outputs": []
    },
    {
      "cell_type": "markdown",
      "metadata": {
        "id": "_9mFGIJVSPlM"
      },
      "source": [
        "Calling  Prediction Function"
      ]
    },
    {
      "cell_type": "code",
      "metadata": {
        "id": "5gbOqsB6Rp2L"
      },
      "source": [
        "def predict_use(sentance):\n",
        "  embeded = embed(sentance)\n",
        "  x = loaded_model_use.predict(embeded.numpy())\n",
        "  return Dict[x[0]+1]"
      ],
      "execution_count": null,
      "outputs": []
    },
    {
      "cell_type": "markdown",
      "metadata": {
        "id": "8Mb4mVE6Ni-c"
      },
      "source": [
        "##Bert Algorithm"
      ]
    },
    {
      "cell_type": "code",
      "metadata": {
        "id": "LTSKXR2jOXBW",
        "outputId": "cdc410fb-5f4e-419e-9b68-677f95edbeeb",
        "colab": {
          "base_uri": "https://localhost:8080/",
          "height": 224
        }
      },
      "source": [
        "!wget https://storage.googleapis.com/bert_models/2018_10_18/uncased_L-12_H-768_A-12.zip"
      ],
      "execution_count": null,
      "outputs": [
        {
          "output_type": "stream",
          "text": [
            "--2020-09-05 17:36:30--  https://storage.googleapis.com/bert_models/2018_10_18/uncased_L-12_H-768_A-12.zip\n",
            "Resolving storage.googleapis.com (storage.googleapis.com)... 172.217.218.128, 108.177.126.128, 108.177.127.128, ...\n",
            "Connecting to storage.googleapis.com (storage.googleapis.com)|172.217.218.128|:443... connected.\n",
            "HTTP request sent, awaiting response... 200 OK\n",
            "Length: 407727028 (389M) [application/zip]\n",
            "Saving to: ‘uncased_L-12_H-768_A-12.zip’\n",
            "\n",
            "uncased_L-12_H-768_ 100%[===================>] 388.84M  89.6MB/s    in 4.3s    \n",
            "\n",
            "2020-09-05 17:36:35 (89.6 MB/s) - ‘uncased_L-12_H-768_A-12.zip’ saved [407727028/407727028]\n",
            "\n"
          ],
          "name": "stdout"
        }
      ]
    },
    {
      "cell_type": "code",
      "metadata": {
        "id": "QipUC7RgOYym",
        "outputId": "f1fcb43e-a3bf-45b9-b278-7d8c5e6cbfff",
        "colab": {
          "base_uri": "https://localhost:8080/",
          "height": 136
        }
      },
      "source": [
        "!unzip '/content/uncased_L-12_H-768_A-12.zip'"
      ],
      "execution_count": null,
      "outputs": [
        {
          "output_type": "stream",
          "text": [
            "Archive:  /content/uncased_L-12_H-768_A-12.zip\n",
            "   creating: uncased_L-12_H-768_A-12/\n",
            "  inflating: uncased_L-12_H-768_A-12/bert_model.ckpt.meta  \n",
            "  inflating: uncased_L-12_H-768_A-12/bert_model.ckpt.data-00000-of-00001  \n",
            "  inflating: uncased_L-12_H-768_A-12/vocab.txt  \n",
            "  inflating: uncased_L-12_H-768_A-12/bert_model.ckpt.index  \n",
            "  inflating: uncased_L-12_H-768_A-12/bert_config.json  \n"
          ],
          "name": "stdout"
        }
      ]
    },
    {
      "cell_type": "code",
      "metadata": {
        "id": "B9MRnrth-6E-",
        "outputId": "6b93c0a8-3ed6-4fb5-c394-12e90f19b34c",
        "colab": {
          "base_uri": "https://localhost:8080/",
          "height": 173
        }
      },
      "source": [
        "loaded_model = BiLSTM_Model.load_model('/content/LSTM/')"
      ],
      "execution_count": null,
      "outputs": [
        {
          "output_type": "stream",
          "text": [
            "2020-09-05 17:36:41,005 [DEBUG] kashgari - ------------------------------------------------\n",
            "2020-09-05 17:36:41,006 [DEBUG] kashgari - Loaded transformer model's vocab\n",
            "2020-09-05 17:36:41,007 [DEBUG] kashgari - config_path       : /content/uncased_L-12_H-768_A-12/bert_config.json\n",
            "2020-09-05 17:36:41,008 [DEBUG] kashgari - vocab_path      : /content/uncased_L-12_H-768_A-12/vocab.txt\n",
            "2020-09-05 17:36:41,009 [DEBUG] kashgari - checkpoint_path : /content/uncased_L-12_H-768_A-12/bert_model.ckpt\n",
            "2020-09-05 17:36:41,011 [DEBUG] kashgari - Top 50 words    : ['[PAD]', '[unused0]', '[unused1]', '[unused2]', '[unused3]', '[unused4]', '[unused5]', '[unused6]', '[unused7]', '[unused8]', '[unused9]', '[unused10]', '[unused11]', '[unused12]', '[unused13]', '[unused14]', '[unused15]', '[unused16]', '[unused17]', '[unused18]', '[unused19]', '[unused20]', '[unused21]', '[unused22]', '[unused23]', '[unused24]', '[unused25]', '[unused26]', '[unused27]', '[unused28]', '[unused29]', '[unused30]', '[unused31]', '[unused32]', '[unused33]', '[unused34]', '[unused35]', '[unused36]', '[unused37]', '[unused38]', '[unused39]', '[unused40]', '[unused41]', '[unused42]', '[unused43]', '[unused44]', '[unused45]', '[unused46]', '[unused47]', '[unused48]']\n",
            "2020-09-05 17:36:41,012 [DEBUG] kashgari - ------------------------------------------------\n"
          ],
          "name": "stderr"
        },
        {
          "output_type": "stream",
          "text": [
            "{\"class_name\": \"Functional\", \"config\": {\"name\": \"functional_3\", \"layers\": [{\"class_name\": \"InputLayer\", \"config\": {\"batch_input_shape\": [null, null], \"dtype\": \"float32\", \"sparse\": false, \"ragged\": false, \"name\": \"Input-Token\"}, \"name\": \"Input-Token\", \"inbound_nodes\": []}, {\"class_name\": \"InputLayer\", \"config\": {\"batch_input_shape\": [null, null], \"dtype\": \"float32\", \"sparse\": false, \"ragged\": false, \"name\": \"Input-Segment\"}, \"name\": \"Input-Segment\", \"inbound_nodes\": []}, {\"class_name\": \"Embedding\", \"config\": {\"name\": \"Embedding-Token\", \"trainable\": false, \"batch_input_shape\": [null, null], \"dtype\": \"float32\", \"input_dim\": 30522, \"output_dim\": 768, \"embeddings_initializer\": {\"class_name\": \"TruncatedNormal\", \"config\": {\"mean\": 0.0, \"stddev\": 0.02, \"seed\": null}}, \"embeddings_regularizer\": null, \"activity_regularizer\": null, \"embeddings_constraint\": null, \"mask_zero\": true, \"input_length\": null}, \"name\": \"Embedding-Token\", \"inbound_nodes\": [[[\"Input-Token\", 0, 0, {}]]]}, {\"class_name\": \"Embedding\", \"config\": {\"name\": \"Embedding-Segment\", \"trainable\": false, \"batch_input_shape\": [null, null], \"dtype\": \"float32\", \"input_dim\": 2, \"output_dim\": 768, \"embeddings_initializer\": {\"class_name\": \"TruncatedNormal\", \"config\": {\"mean\": 0.0, \"stddev\": 0.02, \"seed\": null}}, \"embeddings_regularizer\": null, \"activity_regularizer\": null, \"embeddings_constraint\": null, \"mask_zero\": false, \"input_length\": null}, \"name\": \"Embedding-Segment\", \"inbound_nodes\": [[[\"Input-Segment\", 0, 0, {}]]]}, {\"class_name\": \"Add\", \"config\": {\"name\": \"Embedding-Token-Segment\", \"trainable\": false, \"dtype\": \"float32\"}, \"name\": \"Embedding-Token-Segment\", \"inbound_nodes\": [[[\"Embedding-Token\", 0, 0, {}], [\"Embedding-Segment\", 0, 0, {}]]]}, {\"class_name\": \"PositionEmbedding\", \"config\": {\"name\": \"Embedding-Position\", \"trainable\": false, \"dtype\": \"float32\", \"input_dim\": 512, \"output_dim\": 768, \"merge_mode\": \"add\", \"embeddings_initializer\": {\"class_name\": \"TruncatedNormal\", \"config\": {\"mean\": 0.0, \"stddev\": 0.02, \"seed\": null}}, \"custom_position_ids\": false}, \"name\": \"Embedding-Position\", \"inbound_nodes\": [[[\"Embedding-Token-Segment\", 0, 0, {}]]]}, {\"class_name\": \"LayerNormalization\", \"config\": {\"name\": \"Embedding-Norm\", \"trainable\": false, \"dtype\": \"float32\", \"center\": true, \"scale\": true, \"epsilon\": 1e-12, \"conditional\": false, \"hidden_units\": null, \"hidden_activation\": \"linear\", \"hidden_initializer\": {\"class_name\": \"TruncatedNormal\", \"config\": {\"mean\": 0.0, \"stddev\": 0.02, \"seed\": null}}}, \"name\": \"Embedding-Norm\", \"inbound_nodes\": [[[\"Embedding-Position\", 0, 0, {}]]]}, {\"class_name\": \"Dropout\", \"config\": {\"name\": \"Embedding-Dropout\", \"trainable\": false, \"dtype\": \"float32\", \"rate\": 0.1, \"noise_shape\": null, \"seed\": null}, \"name\": \"Embedding-Dropout\", \"inbound_nodes\": [[[\"Embedding-Norm\", 0, 0, {}]]]}, {\"class_name\": \"MultiHeadAttention\", \"config\": {\"name\": \"Transformer-0-MultiHeadSelfAttention\", \"trainable\": false, \"dtype\": \"float32\", \"heads\": 12, \"head_size\": 64, \"key_size\": 64, \"use_bias\": true, \"attention_scale\": true, \"kernel_initializer\": {\"class_name\": \"TruncatedNormal\", \"config\": {\"mean\": 0.0, \"stddev\": 0.02, \"seed\": null}}}, \"name\": \"Transformer-0-MultiHeadSelfAttention\", \"inbound_nodes\": [[[\"Embedding-Dropout\", 0, 0, {\"a_mask\": null}], [\"Embedding-Dropout\", 0, 0, {\"a_mask\": null}], [\"Embedding-Dropout\", 0, 0, {\"a_mask\": null}]]]}, {\"class_name\": \"Dropout\", \"config\": {\"name\": \"Transformer-0-MultiHeadSelfAttention-Dropout\", \"trainable\": false, \"dtype\": \"float32\", \"rate\": 0.1, \"noise_shape\": null, \"seed\": null}, \"name\": \"Transformer-0-MultiHeadSelfAttention-Dropout\", \"inbound_nodes\": [[[\"Transformer-0-MultiHeadSelfAttention\", 0, 0, {}]]]}, {\"class_name\": \"Add\", \"config\": {\"name\": \"Transformer-0-MultiHeadSelfAttention-Add\", \"trainable\": false, \"dtype\": \"float32\"}, \"name\": \"Transformer-0-MultiHeadSelfAttention-Add\", \"inbound_nodes\": [[[\"Embedding-Dropout\", 0, 0, {}], [\"Transformer-0-MultiHeadSelfAttention-Dropout\", 0, 0, {}]]]}, {\"class_name\": \"LayerNormalization\", \"config\": {\"name\": \"Transformer-0-MultiHeadSelfAttention-Norm\", \"trainable\": false, \"dtype\": \"float32\", \"center\": true, \"scale\": true, \"epsilon\": 1e-12, \"conditional\": false, \"hidden_units\": null, \"hidden_activation\": \"linear\", \"hidden_initializer\": {\"class_name\": \"TruncatedNormal\", \"config\": {\"mean\": 0.0, \"stddev\": 0.02, \"seed\": null}}}, \"name\": \"Transformer-0-MultiHeadSelfAttention-Norm\", \"inbound_nodes\": [[[\"Transformer-0-MultiHeadSelfAttention-Add\", 0, 0, {}]]]}, {\"class_name\": \"FeedForward\", \"config\": {\"name\": \"Transformer-0-FeedForward\", \"trainable\": false, \"dtype\": \"float32\", \"units\": 3072, \"activation\": \"gelu_erf\", \"use_bias\": true, \"kernel_initializer\": {\"class_name\": \"TruncatedNormal\", \"config\": {\"mean\": 0.0, \"stddev\": 0.02, \"seed\": null}}}, \"name\": \"Transformer-0-FeedForward\", \"inbound_nodes\": [[[\"Transformer-0-MultiHeadSelfAttention-Norm\", 0, 0, {}]]]}, {\"class_name\": \"Dropout\", \"config\": {\"name\": \"Transformer-0-FeedForward-Dropout\", \"trainable\": false, \"dtype\": \"float32\", \"rate\": 0.1, \"noise_shape\": null, \"seed\": null}, \"name\": \"Transformer-0-FeedForward-Dropout\", \"inbound_nodes\": [[[\"Transformer-0-FeedForward\", 0, 0, {}]]]}, {\"class_name\": \"Add\", \"config\": {\"name\": \"Transformer-0-FeedForward-Add\", \"trainable\": false, \"dtype\": \"float32\"}, \"name\": \"Transformer-0-FeedForward-Add\", \"inbound_nodes\": [[[\"Transformer-0-MultiHeadSelfAttention-Norm\", 0, 0, {}], [\"Transformer-0-FeedForward-Dropout\", 0, 0, {}]]]}, {\"class_name\": \"LayerNormalization\", \"config\": {\"name\": \"Transformer-0-FeedForward-Norm\", \"trainable\": false, \"dtype\": \"float32\", \"center\": true, \"scale\": true, \"epsilon\": 1e-12, \"conditional\": false, \"hidden_units\": null, \"hidden_activation\": \"linear\", \"hidden_initializer\": {\"class_name\": \"TruncatedNormal\", \"config\": {\"mean\": 0.0, \"stddev\": 0.02, \"seed\": null}}}, \"name\": \"Transformer-0-FeedForward-Norm\", \"inbound_nodes\": [[[\"Transformer-0-FeedForward-Add\", 0, 0, {}]]]}, {\"class_name\": \"MultiHeadAttention\", \"config\": {\"name\": \"Transformer-1-MultiHeadSelfAttention\", \"trainable\": false, \"dtype\": \"float32\", \"heads\": 12, \"head_size\": 64, \"key_size\": 64, \"use_bias\": true, \"attention_scale\": true, \"kernel_initializer\": {\"class_name\": \"TruncatedNormal\", \"config\": {\"mean\": 0.0, \"stddev\": 0.02, \"seed\": null}}}, \"name\": \"Transformer-1-MultiHeadSelfAttention\", \"inbound_nodes\": [[[\"Transformer-0-FeedForward-Norm\", 0, 0, {\"a_mask\": null}], [\"Transformer-0-FeedForward-Norm\", 0, 0, {\"a_mask\": null}], [\"Transformer-0-FeedForward-Norm\", 0, 0, {\"a_mask\": null}]]]}, {\"class_name\": \"Dropout\", \"config\": {\"name\": \"Transformer-1-MultiHeadSelfAttention-Dropout\", \"trainable\": false, \"dtype\": \"float32\", \"rate\": 0.1, \"noise_shape\": null, \"seed\": null}, \"name\": \"Transformer-1-MultiHeadSelfAttention-Dropout\", \"inbound_nodes\": [[[\"Transformer-1-MultiHeadSelfAttention\", 0, 0, {}]]]}, {\"class_name\": \"Add\", \"config\": {\"name\": \"Transformer-1-MultiHeadSelfAttention-Add\", \"trainable\": false, \"dtype\": \"float32\"}, \"name\": \"Transformer-1-MultiHeadSelfAttention-Add\", \"inbound_nodes\": [[[\"Transformer-0-FeedForward-Norm\", 0, 0, {}], [\"Transformer-1-MultiHeadSelfAttention-Dropout\", 0, 0, {}]]]}, {\"class_name\": \"LayerNormalization\", \"config\": {\"name\": \"Transformer-1-MultiHeadSelfAttention-Norm\", \"trainable\": false, \"dtype\": \"float32\", \"center\": true, \"scale\": true, \"epsilon\": 1e-12, \"conditional\": false, \"hidden_units\": null, \"hidden_activation\": \"linear\", \"hidden_initializer\": {\"class_name\": \"TruncatedNormal\", \"config\": {\"mean\": 0.0, \"stddev\": 0.02, \"seed\": null}}}, \"name\": \"Transformer-1-MultiHeadSelfAttention-Norm\", \"inbound_nodes\": [[[\"Transformer-1-MultiHeadSelfAttention-Add\", 0, 0, {}]]]}, {\"class_name\": \"FeedForward\", \"config\": {\"name\": \"Transformer-1-FeedForward\", \"trainable\": false, \"dtype\": \"float32\", \"units\": 3072, \"activation\": \"gelu_erf\", \"use_bias\": true, \"kernel_initializer\": {\"class_name\": \"TruncatedNormal\", \"config\": {\"mean\": 0.0, \"stddev\": 0.02, \"seed\": null}}}, \"name\": \"Transformer-1-FeedForward\", \"inbound_nodes\": [[[\"Transformer-1-MultiHeadSelfAttention-Norm\", 0, 0, {}]]]}, {\"class_name\": \"Dropout\", \"config\": {\"name\": \"Transformer-1-FeedForward-Dropout\", \"trainable\": false, \"dtype\": \"float32\", \"rate\": 0.1, \"noise_shape\": null, \"seed\": null}, \"name\": \"Transformer-1-FeedForward-Dropout\", \"inbound_nodes\": [[[\"Transformer-1-FeedForward\", 0, 0, {}]]]}, {\"class_name\": \"Add\", \"config\": {\"name\": \"Transformer-1-FeedForward-Add\", \"trainable\": false, \"dtype\": \"float32\"}, \"name\": \"Transformer-1-FeedForward-Add\", \"inbound_nodes\": [[[\"Transformer-1-MultiHeadSelfAttention-Norm\", 0, 0, {}], [\"Transformer-1-FeedForward-Dropout\", 0, 0, {}]]]}, {\"class_name\": \"LayerNormalization\", \"config\": {\"name\": \"Transformer-1-FeedForward-Norm\", \"trainable\": false, \"dtype\": \"float32\", \"center\": true, \"scale\": true, \"epsilon\": 1e-12, \"conditional\": false, \"hidden_units\": null, \"hidden_activation\": \"linear\", \"hidden_initializer\": {\"class_name\": \"TruncatedNormal\", \"config\": {\"mean\": 0.0, \"stddev\": 0.02, \"seed\": null}}}, \"name\": \"Transformer-1-FeedForward-Norm\", \"inbound_nodes\": [[[\"Transformer-1-FeedForward-Add\", 0, 0, {}]]]}, {\"class_name\": \"MultiHeadAttention\", \"config\": {\"name\": \"Transformer-2-MultiHeadSelfAttention\", \"trainable\": false, \"dtype\": \"float32\", \"heads\": 12, \"head_size\": 64, \"key_size\": 64, \"use_bias\": true, \"attention_scale\": true, \"kernel_initializer\": {\"class_name\": \"TruncatedNormal\", \"config\": {\"mean\": 0.0, \"stddev\": 0.02, \"seed\": null}}}, \"name\": \"Transformer-2-MultiHeadSelfAttention\", \"inbound_nodes\": [[[\"Transformer-1-FeedForward-Norm\", 0, 0, {\"a_mask\": null}], [\"Transformer-1-FeedForward-Norm\", 0, 0, {\"a_mask\": null}], [\"Transformer-1-FeedForward-Norm\", 0, 0, {\"a_mask\": null}]]]}, {\"class_name\": \"Dropout\", \"config\": {\"name\": \"Transformer-2-MultiHeadSelfAttention-Dropout\", \"trainable\": false, \"dtype\": \"float32\", \"rate\": 0.1, \"noise_shape\": null, \"seed\": null}, \"name\": \"Transformer-2-MultiHeadSelfAttention-Dropout\", \"inbound_nodes\": [[[\"Transformer-2-MultiHeadSelfAttention\", 0, 0, {}]]]}, {\"class_name\": \"Add\", \"config\": {\"name\": \"Transformer-2-MultiHeadSelfAttention-Add\", \"trainable\": false, \"dtype\": \"float32\"}, \"name\": \"Transformer-2-MultiHeadSelfAttention-Add\", \"inbound_nodes\": [[[\"Transformer-1-FeedForward-Norm\", 0, 0, {}], [\"Transformer-2-MultiHeadSelfAttention-Dropout\", 0, 0, {}]]]}, {\"class_name\": \"LayerNormalization\", \"config\": {\"name\": \"Transformer-2-MultiHeadSelfAttention-Norm\", \"trainable\": false, \"dtype\": \"float32\", \"center\": true, \"scale\": true, \"epsilon\": 1e-12, \"conditional\": false, \"hidden_units\": null, \"hidden_activation\": \"linear\", \"hidden_initializer\": {\"class_name\": \"TruncatedNormal\", \"config\": {\"mean\": 0.0, \"stddev\": 0.02, \"seed\": null}}}, \"name\": \"Transformer-2-MultiHeadSelfAttention-Norm\", \"inbound_nodes\": [[[\"Transformer-2-MultiHeadSelfAttention-Add\", 0, 0, {}]]]}, {\"class_name\": \"FeedForward\", \"config\": {\"name\": \"Transformer-2-FeedForward\", \"trainable\": false, \"dtype\": \"float32\", \"units\": 3072, \"activation\": \"gelu_erf\", \"use_bias\": true, \"kernel_initializer\": {\"class_name\": \"TruncatedNormal\", \"config\": {\"mean\": 0.0, \"stddev\": 0.02, \"seed\": null}}}, \"name\": \"Transformer-2-FeedForward\", \"inbound_nodes\": [[[\"Transformer-2-MultiHeadSelfAttention-Norm\", 0, 0, {}]]]}, {\"class_name\": \"Dropout\", \"config\": {\"name\": \"Transformer-2-FeedForward-Dropout\", \"trainable\": false, \"dtype\": \"float32\", \"rate\": 0.1, \"noise_shape\": null, \"seed\": null}, \"name\": \"Transformer-2-FeedForward-Dropout\", \"inbound_nodes\": [[[\"Transformer-2-FeedForward\", 0, 0, {}]]]}, {\"class_name\": \"Add\", \"config\": {\"name\": \"Transformer-2-FeedForward-Add\", \"trainable\": false, \"dtype\": \"float32\"}, \"name\": \"Transformer-2-FeedForward-Add\", \"inbound_nodes\": [[[\"Transformer-2-MultiHeadSelfAttention-Norm\", 0, 0, {}], [\"Transformer-2-FeedForward-Dropout\", 0, 0, {}]]]}, {\"class_name\": \"LayerNormalization\", \"config\": {\"name\": \"Transformer-2-FeedForward-Norm\", \"trainable\": false, \"dtype\": \"float32\", \"center\": true, \"scale\": true, \"epsilon\": 1e-12, \"conditional\": false, \"hidden_units\": null, \"hidden_activation\": \"linear\", \"hidden_initializer\": {\"class_name\": \"TruncatedNormal\", \"config\": {\"mean\": 0.0, \"stddev\": 0.02, \"seed\": null}}}, \"name\": \"Transformer-2-FeedForward-Norm\", \"inbound_nodes\": [[[\"Transformer-2-FeedForward-Add\", 0, 0, {}]]]}, {\"class_name\": \"MultiHeadAttention\", \"config\": {\"name\": \"Transformer-3-MultiHeadSelfAttention\", \"trainable\": false, \"dtype\": \"float32\", \"heads\": 12, \"head_size\": 64, \"key_size\": 64, \"use_bias\": true, \"attention_scale\": true, \"kernel_initializer\": {\"class_name\": \"TruncatedNormal\", \"config\": {\"mean\": 0.0, \"stddev\": 0.02, \"seed\": null}}}, \"name\": \"Transformer-3-MultiHeadSelfAttention\", \"inbound_nodes\": [[[\"Transformer-2-FeedForward-Norm\", 0, 0, {\"a_mask\": null}], [\"Transformer-2-FeedForward-Norm\", 0, 0, {\"a_mask\": null}], [\"Transformer-2-FeedForward-Norm\", 0, 0, {\"a_mask\": null}]]]}, {\"class_name\": \"Dropout\", \"config\": {\"name\": \"Transformer-3-MultiHeadSelfAttention-Dropout\", \"trainable\": false, \"dtype\": \"float32\", \"rate\": 0.1, \"noise_shape\": null, \"seed\": null}, \"name\": \"Transformer-3-MultiHeadSelfAttention-Dropout\", \"inbound_nodes\": [[[\"Transformer-3-MultiHeadSelfAttention\", 0, 0, {}]]]}, {\"class_name\": \"Add\", \"config\": {\"name\": \"Transformer-3-MultiHeadSelfAttention-Add\", \"trainable\": false, \"dtype\": \"float32\"}, \"name\": \"Transformer-3-MultiHeadSelfAttention-Add\", \"inbound_nodes\": [[[\"Transformer-2-FeedForward-Norm\", 0, 0, {}], [\"Transformer-3-MultiHeadSelfAttention-Dropout\", 0, 0, {}]]]}, {\"class_name\": \"LayerNormalization\", \"config\": {\"name\": \"Transformer-3-MultiHeadSelfAttention-Norm\", \"trainable\": false, \"dtype\": \"float32\", \"center\": true, \"scale\": true, \"epsilon\": 1e-12, \"conditional\": false, \"hidden_units\": null, \"hidden_activation\": \"linear\", \"hidden_initializer\": {\"class_name\": \"TruncatedNormal\", \"config\": {\"mean\": 0.0, \"stddev\": 0.02, \"seed\": null}}}, \"name\": \"Transformer-3-MultiHeadSelfAttention-Norm\", \"inbound_nodes\": [[[\"Transformer-3-MultiHeadSelfAttention-Add\", 0, 0, {}]]]}, {\"class_name\": \"FeedForward\", \"config\": {\"name\": \"Transformer-3-FeedForward\", \"trainable\": false, \"dtype\": \"float32\", \"units\": 3072, \"activation\": \"gelu_erf\", \"use_bias\": true, \"kernel_initializer\": {\"class_name\": \"TruncatedNormal\", \"config\": {\"mean\": 0.0, \"stddev\": 0.02, \"seed\": null}}}, \"name\": \"Transformer-3-FeedForward\", \"inbound_nodes\": [[[\"Transformer-3-MultiHeadSelfAttention-Norm\", 0, 0, {}]]]}, {\"class_name\": \"Dropout\", \"config\": {\"name\": \"Transformer-3-FeedForward-Dropout\", \"trainable\": false, \"dtype\": \"float32\", \"rate\": 0.1, \"noise_shape\": null, \"seed\": null}, \"name\": \"Transformer-3-FeedForward-Dropout\", \"inbound_nodes\": [[[\"Transformer-3-FeedForward\", 0, 0, {}]]]}, {\"class_name\": \"Add\", \"config\": {\"name\": \"Transformer-3-FeedForward-Add\", \"trainable\": false, \"dtype\": \"float32\"}, \"name\": \"Transformer-3-FeedForward-Add\", \"inbound_nodes\": [[[\"Transformer-3-MultiHeadSelfAttention-Norm\", 0, 0, {}], [\"Transformer-3-FeedForward-Dropout\", 0, 0, {}]]]}, {\"class_name\": \"LayerNormalization\", \"config\": {\"name\": \"Transformer-3-FeedForward-Norm\", \"trainable\": false, \"dtype\": \"float32\", \"center\": true, \"scale\": true, \"epsilon\": 1e-12, \"conditional\": false, \"hidden_units\": null, \"hidden_activation\": \"linear\", \"hidden_initializer\": {\"class_name\": \"TruncatedNormal\", \"config\": {\"mean\": 0.0, \"stddev\": 0.02, \"seed\": null}}}, \"name\": \"Transformer-3-FeedForward-Norm\", \"inbound_nodes\": [[[\"Transformer-3-FeedForward-Add\", 0, 0, {}]]]}, {\"class_name\": \"MultiHeadAttention\", \"config\": {\"name\": \"Transformer-4-MultiHeadSelfAttention\", \"trainable\": false, \"dtype\": \"float32\", \"heads\": 12, \"head_size\": 64, \"key_size\": 64, \"use_bias\": true, \"attention_scale\": true, \"kernel_initializer\": {\"class_name\": \"TruncatedNormal\", \"config\": {\"mean\": 0.0, \"stddev\": 0.02, \"seed\": null}}}, \"name\": \"Transformer-4-MultiHeadSelfAttention\", \"inbound_nodes\": [[[\"Transformer-3-FeedForward-Norm\", 0, 0, {\"a_mask\": null}], [\"Transformer-3-FeedForward-Norm\", 0, 0, {\"a_mask\": null}], [\"Transformer-3-FeedForward-Norm\", 0, 0, {\"a_mask\": null}]]]}, {\"class_name\": \"Dropout\", \"config\": {\"name\": \"Transformer-4-MultiHeadSelfAttention-Dropout\", \"trainable\": false, \"dtype\": \"float32\", \"rate\": 0.1, \"noise_shape\": null, \"seed\": null}, \"name\": \"Transformer-4-MultiHeadSelfAttention-Dropout\", \"inbound_nodes\": [[[\"Transformer-4-MultiHeadSelfAttention\", 0, 0, {}]]]}, {\"class_name\": \"Add\", \"config\": {\"name\": \"Transformer-4-MultiHeadSelfAttention-Add\", \"trainable\": false, \"dtype\": \"float32\"}, \"name\": \"Transformer-4-MultiHeadSelfAttention-Add\", \"inbound_nodes\": [[[\"Transformer-3-FeedForward-Norm\", 0, 0, {}], [\"Transformer-4-MultiHeadSelfAttention-Dropout\", 0, 0, {}]]]}, {\"class_name\": \"LayerNormalization\", \"config\": {\"name\": \"Transformer-4-MultiHeadSelfAttention-Norm\", \"trainable\": false, \"dtype\": \"float32\", \"center\": true, \"scale\": true, \"epsilon\": 1e-12, \"conditional\": false, \"hidden_units\": null, \"hidden_activation\": \"linear\", \"hidden_initializer\": {\"class_name\": \"TruncatedNormal\", \"config\": {\"mean\": 0.0, \"stddev\": 0.02, \"seed\": null}}}, \"name\": \"Transformer-4-MultiHeadSelfAttention-Norm\", \"inbound_nodes\": [[[\"Transformer-4-MultiHeadSelfAttention-Add\", 0, 0, {}]]]}, {\"class_name\": \"FeedForward\", \"config\": {\"name\": \"Transformer-4-FeedForward\", \"trainable\": false, \"dtype\": \"float32\", \"units\": 3072, \"activation\": \"gelu_erf\", \"use_bias\": true, \"kernel_initializer\": {\"class_name\": \"TruncatedNormal\", \"config\": {\"mean\": 0.0, \"stddev\": 0.02, \"seed\": null}}}, \"name\": \"Transformer-4-FeedForward\", \"inbound_nodes\": [[[\"Transformer-4-MultiHeadSelfAttention-Norm\", 0, 0, {}]]]}, {\"class_name\": \"Dropout\", \"config\": {\"name\": \"Transformer-4-FeedForward-Dropout\", \"trainable\": false, \"dtype\": \"float32\", \"rate\": 0.1, \"noise_shape\": null, \"seed\": null}, \"name\": \"Transformer-4-FeedForward-Dropout\", \"inbound_nodes\": [[[\"Transformer-4-FeedForward\", 0, 0, {}]]]}, {\"class_name\": \"Add\", \"config\": {\"name\": \"Transformer-4-FeedForward-Add\", \"trainable\": false, \"dtype\": \"float32\"}, \"name\": \"Transformer-4-FeedForward-Add\", \"inbound_nodes\": [[[\"Transformer-4-MultiHeadSelfAttention-Norm\", 0, 0, {}], [\"Transformer-4-FeedForward-Dropout\", 0, 0, {}]]]}, {\"class_name\": \"LayerNormalization\", \"config\": {\"name\": \"Transformer-4-FeedForward-Norm\", \"trainable\": false, \"dtype\": \"float32\", \"center\": true, \"scale\": true, \"epsilon\": 1e-12, \"conditional\": false, \"hidden_units\": null, \"hidden_activation\": \"linear\", \"hidden_initializer\": {\"class_name\": \"TruncatedNormal\", \"config\": {\"mean\": 0.0, \"stddev\": 0.02, \"seed\": null}}}, \"name\": \"Transformer-4-FeedForward-Norm\", \"inbound_nodes\": [[[\"Transformer-4-FeedForward-Add\", 0, 0, {}]]]}, {\"class_name\": \"MultiHeadAttention\", \"config\": {\"name\": \"Transformer-5-MultiHeadSelfAttention\", \"trainable\": false, \"dtype\": \"float32\", \"heads\": 12, \"head_size\": 64, \"key_size\": 64, \"use_bias\": true, \"attention_scale\": true, \"kernel_initializer\": {\"class_name\": \"TruncatedNormal\", \"config\": {\"mean\": 0.0, \"stddev\": 0.02, \"seed\": null}}}, \"name\": \"Transformer-5-MultiHeadSelfAttention\", \"inbound_nodes\": [[[\"Transformer-4-FeedForward-Norm\", 0, 0, {\"a_mask\": null}], [\"Transformer-4-FeedForward-Norm\", 0, 0, {\"a_mask\": null}], [\"Transformer-4-FeedForward-Norm\", 0, 0, {\"a_mask\": null}]]]}, {\"class_name\": \"Dropout\", \"config\": {\"name\": \"Transformer-5-MultiHeadSelfAttention-Dropout\", \"trainable\": false, \"dtype\": \"float32\", \"rate\": 0.1, \"noise_shape\": null, \"seed\": null}, \"name\": \"Transformer-5-MultiHeadSelfAttention-Dropout\", \"inbound_nodes\": [[[\"Transformer-5-MultiHeadSelfAttention\", 0, 0, {}]]]}, {\"class_name\": \"Add\", \"config\": {\"name\": \"Transformer-5-MultiHeadSelfAttention-Add\", \"trainable\": false, \"dtype\": \"float32\"}, \"name\": \"Transformer-5-MultiHeadSelfAttention-Add\", \"inbound_nodes\": [[[\"Transformer-4-FeedForward-Norm\", 0, 0, {}], [\"Transformer-5-MultiHeadSelfAttention-Dropout\", 0, 0, {}]]]}, {\"class_name\": \"LayerNormalization\", \"config\": {\"name\": \"Transformer-5-MultiHeadSelfAttention-Norm\", \"trainable\": false, \"dtype\": \"float32\", \"center\": true, \"scale\": true, \"epsilon\": 1e-12, \"conditional\": false, \"hidden_units\": null, \"hidden_activation\": \"linear\", \"hidden_initializer\": {\"class_name\": \"TruncatedNormal\", \"config\": {\"mean\": 0.0, \"stddev\": 0.02, \"seed\": null}}}, \"name\": \"Transformer-5-MultiHeadSelfAttention-Norm\", \"inbound_nodes\": [[[\"Transformer-5-MultiHeadSelfAttention-Add\", 0, 0, {}]]]}, {\"class_name\": \"FeedForward\", \"config\": {\"name\": \"Transformer-5-FeedForward\", \"trainable\": false, \"dtype\": \"float32\", \"units\": 3072, \"activation\": \"gelu_erf\", \"use_bias\": true, \"kernel_initializer\": {\"class_name\": \"TruncatedNormal\", \"config\": {\"mean\": 0.0, \"stddev\": 0.02, \"seed\": null}}}, \"name\": \"Transformer-5-FeedForward\", \"inbound_nodes\": [[[\"Transformer-5-MultiHeadSelfAttention-Norm\", 0, 0, {}]]]}, {\"class_name\": \"Dropout\", \"config\": {\"name\": \"Transformer-5-FeedForward-Dropout\", \"trainable\": false, \"dtype\": \"float32\", \"rate\": 0.1, \"noise_shape\": null, \"seed\": null}, \"name\": \"Transformer-5-FeedForward-Dropout\", \"inbound_nodes\": [[[\"Transformer-5-FeedForward\", 0, 0, {}]]]}, {\"class_name\": \"Add\", \"config\": {\"name\": \"Transformer-5-FeedForward-Add\", \"trainable\": false, \"dtype\": \"float32\"}, \"name\": \"Transformer-5-FeedForward-Add\", \"inbound_nodes\": [[[\"Transformer-5-MultiHeadSelfAttention-Norm\", 0, 0, {}], [\"Transformer-5-FeedForward-Dropout\", 0, 0, {}]]]}, {\"class_name\": \"LayerNormalization\", \"config\": {\"name\": \"Transformer-5-FeedForward-Norm\", \"trainable\": false, \"dtype\": \"float32\", \"center\": true, \"scale\": true, \"epsilon\": 1e-12, \"conditional\": false, \"hidden_units\": null, \"hidden_activation\": \"linear\", \"hidden_initializer\": {\"class_name\": \"TruncatedNormal\", \"config\": {\"mean\": 0.0, \"stddev\": 0.02, \"seed\": null}}}, \"name\": \"Transformer-5-FeedForward-Norm\", \"inbound_nodes\": [[[\"Transformer-5-FeedForward-Add\", 0, 0, {}]]]}, {\"class_name\": \"MultiHeadAttention\", \"config\": {\"name\": \"Transformer-6-MultiHeadSelfAttention\", \"trainable\": false, \"dtype\": \"float32\", \"heads\": 12, \"head_size\": 64, \"key_size\": 64, \"use_bias\": true, \"attention_scale\": true, \"kernel_initializer\": {\"class_name\": \"TruncatedNormal\", \"config\": {\"mean\": 0.0, \"stddev\": 0.02, \"seed\": null}}}, \"name\": \"Transformer-6-MultiHeadSelfAttention\", \"inbound_nodes\": [[[\"Transformer-5-FeedForward-Norm\", 0, 0, {\"a_mask\": null}], [\"Transformer-5-FeedForward-Norm\", 0, 0, {\"a_mask\": null}], [\"Transformer-5-FeedForward-Norm\", 0, 0, {\"a_mask\": null}]]]}, {\"class_name\": \"Dropout\", \"config\": {\"name\": \"Transformer-6-MultiHeadSelfAttention-Dropout\", \"trainable\": false, \"dtype\": \"float32\", \"rate\": 0.1, \"noise_shape\": null, \"seed\": null}, \"name\": \"Transformer-6-MultiHeadSelfAttention-Dropout\", \"inbound_nodes\": [[[\"Transformer-6-MultiHeadSelfAttention\", 0, 0, {}]]]}, {\"class_name\": \"Add\", \"config\": {\"name\": \"Transformer-6-MultiHeadSelfAttention-Add\", \"trainable\": false, \"dtype\": \"float32\"}, \"name\": \"Transformer-6-MultiHeadSelfAttention-Add\", \"inbound_nodes\": [[[\"Transformer-5-FeedForward-Norm\", 0, 0, {}], [\"Transformer-6-MultiHeadSelfAttention-Dropout\", 0, 0, {}]]]}, {\"class_name\": \"LayerNormalization\", \"config\": {\"name\": \"Transformer-6-MultiHeadSelfAttention-Norm\", \"trainable\": false, \"dtype\": \"float32\", \"center\": true, \"scale\": true, \"epsilon\": 1e-12, \"conditional\": false, \"hidden_units\": null, \"hidden_activation\": \"linear\", \"hidden_initializer\": {\"class_name\": \"TruncatedNormal\", \"config\": {\"mean\": 0.0, \"stddev\": 0.02, \"seed\": null}}}, \"name\": \"Transformer-6-MultiHeadSelfAttention-Norm\", \"inbound_nodes\": [[[\"Transformer-6-MultiHeadSelfAttention-Add\", 0, 0, {}]]]}, {\"class_name\": \"FeedForward\", \"config\": {\"name\": \"Transformer-6-FeedForward\", \"trainable\": false, \"dtype\": \"float32\", \"units\": 3072, \"activation\": \"gelu_erf\", \"use_bias\": true, \"kernel_initializer\": {\"class_name\": \"TruncatedNormal\", \"config\": {\"mean\": 0.0, \"stddev\": 0.02, \"seed\": null}}}, \"name\": \"Transformer-6-FeedForward\", \"inbound_nodes\": [[[\"Transformer-6-MultiHeadSelfAttention-Norm\", 0, 0, {}]]]}, {\"class_name\": \"Dropout\", \"config\": {\"name\": \"Transformer-6-FeedForward-Dropout\", \"trainable\": false, \"dtype\": \"float32\", \"rate\": 0.1, \"noise_shape\": null, \"seed\": null}, \"name\": \"Transformer-6-FeedForward-Dropout\", \"inbound_nodes\": [[[\"Transformer-6-FeedForward\", 0, 0, {}]]]}, {\"class_name\": \"Add\", \"config\": {\"name\": \"Transformer-6-FeedForward-Add\", \"trainable\": false, \"dtype\": \"float32\"}, \"name\": \"Transformer-6-FeedForward-Add\", \"inbound_nodes\": [[[\"Transformer-6-MultiHeadSelfAttention-Norm\", 0, 0, {}], [\"Transformer-6-FeedForward-Dropout\", 0, 0, {}]]]}, {\"class_name\": \"LayerNormalization\", \"config\": {\"name\": \"Transformer-6-FeedForward-Norm\", \"trainable\": false, \"dtype\": \"float32\", \"center\": true, \"scale\": true, \"epsilon\": 1e-12, \"conditional\": false, \"hidden_units\": null, \"hidden_activation\": \"linear\", \"hidden_initializer\": {\"class_name\": \"TruncatedNormal\", \"config\": {\"mean\": 0.0, \"stddev\": 0.02, \"seed\": null}}}, \"name\": \"Transformer-6-FeedForward-Norm\", \"inbound_nodes\": [[[\"Transformer-6-FeedForward-Add\", 0, 0, {}]]]}, {\"class_name\": \"MultiHeadAttention\", \"config\": {\"name\": \"Transformer-7-MultiHeadSelfAttention\", \"trainable\": false, \"dtype\": \"float32\", \"heads\": 12, \"head_size\": 64, \"key_size\": 64, \"use_bias\": true, \"attention_scale\": true, \"kernel_initializer\": {\"class_name\": \"TruncatedNormal\", \"config\": {\"mean\": 0.0, \"stddev\": 0.02, \"seed\": null}}}, \"name\": \"Transformer-7-MultiHeadSelfAttention\", \"inbound_nodes\": [[[\"Transformer-6-FeedForward-Norm\", 0, 0, {\"a_mask\": null}], [\"Transformer-6-FeedForward-Norm\", 0, 0, {\"a_mask\": null}], [\"Transformer-6-FeedForward-Norm\", 0, 0, {\"a_mask\": null}]]]}, {\"class_name\": \"Dropout\", \"config\": {\"name\": \"Transformer-7-MultiHeadSelfAttention-Dropout\", \"trainable\": false, \"dtype\": \"float32\", \"rate\": 0.1, \"noise_shape\": null, \"seed\": null}, \"name\": \"Transformer-7-MultiHeadSelfAttention-Dropout\", \"inbound_nodes\": [[[\"Transformer-7-MultiHeadSelfAttention\", 0, 0, {}]]]}, {\"class_name\": \"Add\", \"config\": {\"name\": \"Transformer-7-MultiHeadSelfAttention-Add\", \"trainable\": false, \"dtype\": \"float32\"}, \"name\": \"Transformer-7-MultiHeadSelfAttention-Add\", \"inbound_nodes\": [[[\"Transformer-6-FeedForward-Norm\", 0, 0, {}], [\"Transformer-7-MultiHeadSelfAttention-Dropout\", 0, 0, {}]]]}, {\"class_name\": \"LayerNormalization\", \"config\": {\"name\": \"Transformer-7-MultiHeadSelfAttention-Norm\", \"trainable\": false, \"dtype\": \"float32\", \"center\": true, \"scale\": true, \"epsilon\": 1e-12, \"conditional\": false, \"hidden_units\": null, \"hidden_activation\": \"linear\", \"hidden_initializer\": {\"class_name\": \"TruncatedNormal\", \"config\": {\"mean\": 0.0, \"stddev\": 0.02, \"seed\": null}}}, \"name\": \"Transformer-7-MultiHeadSelfAttention-Norm\", \"inbound_nodes\": [[[\"Transformer-7-MultiHeadSelfAttention-Add\", 0, 0, {}]]]}, {\"class_name\": \"FeedForward\", \"config\": {\"name\": \"Transformer-7-FeedForward\", \"trainable\": false, \"dtype\": \"float32\", \"units\": 3072, \"activation\": \"gelu_erf\", \"use_bias\": true, \"kernel_initializer\": {\"class_name\": \"TruncatedNormal\", \"config\": {\"mean\": 0.0, \"stddev\": 0.02, \"seed\": null}}}, \"name\": \"Transformer-7-FeedForward\", \"inbound_nodes\": [[[\"Transformer-7-MultiHeadSelfAttention-Norm\", 0, 0, {}]]]}, {\"class_name\": \"Dropout\", \"config\": {\"name\": \"Transformer-7-FeedForward-Dropout\", \"trainable\": false, \"dtype\": \"float32\", \"rate\": 0.1, \"noise_shape\": null, \"seed\": null}, \"name\": \"Transformer-7-FeedForward-Dropout\", \"inbound_nodes\": [[[\"Transformer-7-FeedForward\", 0, 0, {}]]]}, {\"class_name\": \"Add\", \"config\": {\"name\": \"Transformer-7-FeedForward-Add\", \"trainable\": false, \"dtype\": \"float32\"}, \"name\": \"Transformer-7-FeedForward-Add\", \"inbound_nodes\": [[[\"Transformer-7-MultiHeadSelfAttention-Norm\", 0, 0, {}], [\"Transformer-7-FeedForward-Dropout\", 0, 0, {}]]]}, {\"class_name\": \"LayerNormalization\", \"config\": {\"name\": \"Transformer-7-FeedForward-Norm\", \"trainable\": false, \"dtype\": \"float32\", \"center\": true, \"scale\": true, \"epsilon\": 1e-12, \"conditional\": false, \"hidden_units\": null, \"hidden_activation\": \"linear\", \"hidden_initializer\": {\"class_name\": \"TruncatedNormal\", \"config\": {\"mean\": 0.0, \"stddev\": 0.02, \"seed\": null}}}, \"name\": \"Transformer-7-FeedForward-Norm\", \"inbound_nodes\": [[[\"Transformer-7-FeedForward-Add\", 0, 0, {}]]]}, {\"class_name\": \"MultiHeadAttention\", \"config\": {\"name\": \"Transformer-8-MultiHeadSelfAttention\", \"trainable\": false, \"dtype\": \"float32\", \"heads\": 12, \"head_size\": 64, \"key_size\": 64, \"use_bias\": true, \"attention_scale\": true, \"kernel_initializer\": {\"class_name\": \"TruncatedNormal\", \"config\": {\"mean\": 0.0, \"stddev\": 0.02, \"seed\": null}}}, \"name\": \"Transformer-8-MultiHeadSelfAttention\", \"inbound_nodes\": [[[\"Transformer-7-FeedForward-Norm\", 0, 0, {\"a_mask\": null}], [\"Transformer-7-FeedForward-Norm\", 0, 0, {\"a_mask\": null}], [\"Transformer-7-FeedForward-Norm\", 0, 0, {\"a_mask\": null}]]]}, {\"class_name\": \"Dropout\", \"config\": {\"name\": \"Transformer-8-MultiHeadSelfAttention-Dropout\", \"trainable\": false, \"dtype\": \"float32\", \"rate\": 0.1, \"noise_shape\": null, \"seed\": null}, \"name\": \"Transformer-8-MultiHeadSelfAttention-Dropout\", \"inbound_nodes\": [[[\"Transformer-8-MultiHeadSelfAttention\", 0, 0, {}]]]}, {\"class_name\": \"Add\", \"config\": {\"name\": \"Transformer-8-MultiHeadSelfAttention-Add\", \"trainable\": false, \"dtype\": \"float32\"}, \"name\": \"Transformer-8-MultiHeadSelfAttention-Add\", \"inbound_nodes\": [[[\"Transformer-7-FeedForward-Norm\", 0, 0, {}], [\"Transformer-8-MultiHeadSelfAttention-Dropout\", 0, 0, {}]]]}, {\"class_name\": \"LayerNormalization\", \"config\": {\"name\": \"Transformer-8-MultiHeadSelfAttention-Norm\", \"trainable\": false, \"dtype\": \"float32\", \"center\": true, \"scale\": true, \"epsilon\": 1e-12, \"conditional\": false, \"hidden_units\": null, \"hidden_activation\": \"linear\", \"hidden_initializer\": {\"class_name\": \"TruncatedNormal\", \"config\": {\"mean\": 0.0, \"stddev\": 0.02, \"seed\": null}}}, \"name\": \"Transformer-8-MultiHeadSelfAttention-Norm\", \"inbound_nodes\": [[[\"Transformer-8-MultiHeadSelfAttention-Add\", 0, 0, {}]]]}, {\"class_name\": \"FeedForward\", \"config\": {\"name\": \"Transformer-8-FeedForward\", \"trainable\": false, \"dtype\": \"float32\", \"units\": 3072, \"activation\": \"gelu_erf\", \"use_bias\": true, \"kernel_initializer\": {\"class_name\": \"TruncatedNormal\", \"config\": {\"mean\": 0.0, \"stddev\": 0.02, \"seed\": null}}}, \"name\": \"Transformer-8-FeedForward\", \"inbound_nodes\": [[[\"Transformer-8-MultiHeadSelfAttention-Norm\", 0, 0, {}]]]}, {\"class_name\": \"Dropout\", \"config\": {\"name\": \"Transformer-8-FeedForward-Dropout\", \"trainable\": false, \"dtype\": \"float32\", \"rate\": 0.1, \"noise_shape\": null, \"seed\": null}, \"name\": \"Transformer-8-FeedForward-Dropout\", \"inbound_nodes\": [[[\"Transformer-8-FeedForward\", 0, 0, {}]]]}, {\"class_name\": \"Add\", \"config\": {\"name\": \"Transformer-8-FeedForward-Add\", \"trainable\": false, \"dtype\": \"float32\"}, \"name\": \"Transformer-8-FeedForward-Add\", \"inbound_nodes\": [[[\"Transformer-8-MultiHeadSelfAttention-Norm\", 0, 0, {}], [\"Transformer-8-FeedForward-Dropout\", 0, 0, {}]]]}, {\"class_name\": \"LayerNormalization\", \"config\": {\"name\": \"Transformer-8-FeedForward-Norm\", \"trainable\": false, \"dtype\": \"float32\", \"center\": true, \"scale\": true, \"epsilon\": 1e-12, \"conditional\": false, \"hidden_units\": null, \"hidden_activation\": \"linear\", \"hidden_initializer\": {\"class_name\": \"TruncatedNormal\", \"config\": {\"mean\": 0.0, \"stddev\": 0.02, \"seed\": null}}}, \"name\": \"Transformer-8-FeedForward-Norm\", \"inbound_nodes\": [[[\"Transformer-8-FeedForward-Add\", 0, 0, {}]]]}, {\"class_name\": \"MultiHeadAttention\", \"config\": {\"name\": \"Transformer-9-MultiHeadSelfAttention\", \"trainable\": false, \"dtype\": \"float32\", \"heads\": 12, \"head_size\": 64, \"key_size\": 64, \"use_bias\": true, \"attention_scale\": true, \"kernel_initializer\": {\"class_name\": \"TruncatedNormal\", \"config\": {\"mean\": 0.0, \"stddev\": 0.02, \"seed\": null}}}, \"name\": \"Transformer-9-MultiHeadSelfAttention\", \"inbound_nodes\": [[[\"Transformer-8-FeedForward-Norm\", 0, 0, {\"a_mask\": null}], [\"Transformer-8-FeedForward-Norm\", 0, 0, {\"a_mask\": null}], [\"Transformer-8-FeedForward-Norm\", 0, 0, {\"a_mask\": null}]]]}, {\"class_name\": \"Dropout\", \"config\": {\"name\": \"Transformer-9-MultiHeadSelfAttention-Dropout\", \"trainable\": false, \"dtype\": \"float32\", \"rate\": 0.1, \"noise_shape\": null, \"seed\": null}, \"name\": \"Transformer-9-MultiHeadSelfAttention-Dropout\", \"inbound_nodes\": [[[\"Transformer-9-MultiHeadSelfAttention\", 0, 0, {}]]]}, {\"class_name\": \"Add\", \"config\": {\"name\": \"Transformer-9-MultiHeadSelfAttention-Add\", \"trainable\": false, \"dtype\": \"float32\"}, \"name\": \"Transformer-9-MultiHeadSelfAttention-Add\", \"inbound_nodes\": [[[\"Transformer-8-FeedForward-Norm\", 0, 0, {}], [\"Transformer-9-MultiHeadSelfAttention-Dropout\", 0, 0, {}]]]}, {\"class_name\": \"LayerNormalization\", \"config\": {\"name\": \"Transformer-9-MultiHeadSelfAttention-Norm\", \"trainable\": false, \"dtype\": \"float32\", \"center\": true, \"scale\": true, \"epsilon\": 1e-12, \"conditional\": false, \"hidden_units\": null, \"hidden_activation\": \"linear\", \"hidden_initializer\": {\"class_name\": \"TruncatedNormal\", \"config\": {\"mean\": 0.0, \"stddev\": 0.02, \"seed\": null}}}, \"name\": \"Transformer-9-MultiHeadSelfAttention-Norm\", \"inbound_nodes\": [[[\"Transformer-9-MultiHeadSelfAttention-Add\", 0, 0, {}]]]}, {\"class_name\": \"FeedForward\", \"config\": {\"name\": \"Transformer-9-FeedForward\", \"trainable\": false, \"dtype\": \"float32\", \"units\": 3072, \"activation\": \"gelu_erf\", \"use_bias\": true, \"kernel_initializer\": {\"class_name\": \"TruncatedNormal\", \"config\": {\"mean\": 0.0, \"stddev\": 0.02, \"seed\": null}}}, \"name\": \"Transformer-9-FeedForward\", \"inbound_nodes\": [[[\"Transformer-9-MultiHeadSelfAttention-Norm\", 0, 0, {}]]]}, {\"class_name\": \"Dropout\", \"config\": {\"name\": \"Transformer-9-FeedForward-Dropout\", \"trainable\": false, \"dtype\": \"float32\", \"rate\": 0.1, \"noise_shape\": null, \"seed\": null}, \"name\": \"Transformer-9-FeedForward-Dropout\", \"inbound_nodes\": [[[\"Transformer-9-FeedForward\", 0, 0, {}]]]}, {\"class_name\": \"Add\", \"config\": {\"name\": \"Transformer-9-FeedForward-Add\", \"trainable\": false, \"dtype\": \"float32\"}, \"name\": \"Transformer-9-FeedForward-Add\", \"inbound_nodes\": [[[\"Transformer-9-MultiHeadSelfAttention-Norm\", 0, 0, {}], [\"Transformer-9-FeedForward-Dropout\", 0, 0, {}]]]}, {\"class_name\": \"LayerNormalization\", \"config\": {\"name\": \"Transformer-9-FeedForward-Norm\", \"trainable\": false, \"dtype\": \"float32\", \"center\": true, \"scale\": true, \"epsilon\": 1e-12, \"conditional\": false, \"hidden_units\": null, \"hidden_activation\": \"linear\", \"hidden_initializer\": {\"class_name\": \"TruncatedNormal\", \"config\": {\"mean\": 0.0, \"stddev\": 0.02, \"seed\": null}}}, \"name\": \"Transformer-9-FeedForward-Norm\", \"inbound_nodes\": [[[\"Transformer-9-FeedForward-Add\", 0, 0, {}]]]}, {\"class_name\": \"MultiHeadAttention\", \"config\": {\"name\": \"Transformer-10-MultiHeadSelfAttention\", \"trainable\": false, \"dtype\": \"float32\", \"heads\": 12, \"head_size\": 64, \"key_size\": 64, \"use_bias\": true, \"attention_scale\": true, \"kernel_initializer\": {\"class_name\": \"TruncatedNormal\", \"config\": {\"mean\": 0.0, \"stddev\": 0.02, \"seed\": null}}}, \"name\": \"Transformer-10-MultiHeadSelfAttention\", \"inbound_nodes\": [[[\"Transformer-9-FeedForward-Norm\", 0, 0, {\"a_mask\": null}], [\"Transformer-9-FeedForward-Norm\", 0, 0, {\"a_mask\": null}], [\"Transformer-9-FeedForward-Norm\", 0, 0, {\"a_mask\": null}]]]}, {\"class_name\": \"Dropout\", \"config\": {\"name\": \"Transformer-10-MultiHeadSelfAttention-Dropout\", \"trainable\": false, \"dtype\": \"float32\", \"rate\": 0.1, \"noise_shape\": null, \"seed\": null}, \"name\": \"Transformer-10-MultiHeadSelfAttention-Dropout\", \"inbound_nodes\": [[[\"Transformer-10-MultiHeadSelfAttention\", 0, 0, {}]]]}, {\"class_name\": \"Add\", \"config\": {\"name\": \"Transformer-10-MultiHeadSelfAttention-Add\", \"trainable\": false, \"dtype\": \"float32\"}, \"name\": \"Transformer-10-MultiHeadSelfAttention-Add\", \"inbound_nodes\": [[[\"Transformer-9-FeedForward-Norm\", 0, 0, {}], [\"Transformer-10-MultiHeadSelfAttention-Dropout\", 0, 0, {}]]]}, {\"class_name\": \"LayerNormalization\", \"config\": {\"name\": \"Transformer-10-MultiHeadSelfAttention-Norm\", \"trainable\": false, \"dtype\": \"float32\", \"center\": true, \"scale\": true, \"epsilon\": 1e-12, \"conditional\": false, \"hidden_units\": null, \"hidden_activation\": \"linear\", \"hidden_initializer\": {\"class_name\": \"TruncatedNormal\", \"config\": {\"mean\": 0.0, \"stddev\": 0.02, \"seed\": null}}}, \"name\": \"Transformer-10-MultiHeadSelfAttention-Norm\", \"inbound_nodes\": [[[\"Transformer-10-MultiHeadSelfAttention-Add\", 0, 0, {}]]]}, {\"class_name\": \"FeedForward\", \"config\": {\"name\": \"Transformer-10-FeedForward\", \"trainable\": false, \"dtype\": \"float32\", \"units\": 3072, \"activation\": \"gelu_erf\", \"use_bias\": true, \"kernel_initializer\": {\"class_name\": \"TruncatedNormal\", \"config\": {\"mean\": 0.0, \"stddev\": 0.02, \"seed\": null}}}, \"name\": \"Transformer-10-FeedForward\", \"inbound_nodes\": [[[\"Transformer-10-MultiHeadSelfAttention-Norm\", 0, 0, {}]]]}, {\"class_name\": \"Dropout\", \"config\": {\"name\": \"Transformer-10-FeedForward-Dropout\", \"trainable\": false, \"dtype\": \"float32\", \"rate\": 0.1, \"noise_shape\": null, \"seed\": null}, \"name\": \"Transformer-10-FeedForward-Dropout\", \"inbound_nodes\": [[[\"Transformer-10-FeedForward\", 0, 0, {}]]]}, {\"class_name\": \"Add\", \"config\": {\"name\": \"Transformer-10-FeedForward-Add\", \"trainable\": false, \"dtype\": \"float32\"}, \"name\": \"Transformer-10-FeedForward-Add\", \"inbound_nodes\": [[[\"Transformer-10-MultiHeadSelfAttention-Norm\", 0, 0, {}], [\"Transformer-10-FeedForward-Dropout\", 0, 0, {}]]]}, {\"class_name\": \"LayerNormalization\", \"config\": {\"name\": \"Transformer-10-FeedForward-Norm\", \"trainable\": false, \"dtype\": \"float32\", \"center\": true, \"scale\": true, \"epsilon\": 1e-12, \"conditional\": false, \"hidden_units\": null, \"hidden_activation\": \"linear\", \"hidden_initializer\": {\"class_name\": \"TruncatedNormal\", \"config\": {\"mean\": 0.0, \"stddev\": 0.02, \"seed\": null}}}, \"name\": \"Transformer-10-FeedForward-Norm\", \"inbound_nodes\": [[[\"Transformer-10-FeedForward-Add\", 0, 0, {}]]]}, {\"class_name\": \"MultiHeadAttention\", \"config\": {\"name\": \"Transformer-11-MultiHeadSelfAttention\", \"trainable\": false, \"dtype\": \"float32\", \"heads\": 12, \"head_size\": 64, \"key_size\": 64, \"use_bias\": true, \"attention_scale\": true, \"kernel_initializer\": {\"class_name\": \"TruncatedNormal\", \"config\": {\"mean\": 0.0, \"stddev\": 0.02, \"seed\": null}}}, \"name\": \"Transformer-11-MultiHeadSelfAttention\", \"inbound_nodes\": [[[\"Transformer-10-FeedForward-Norm\", 0, 0, {\"a_mask\": null}], [\"Transformer-10-FeedForward-Norm\", 0, 0, {\"a_mask\": null}], [\"Transformer-10-FeedForward-Norm\", 0, 0, {\"a_mask\": null}]]]}, {\"class_name\": \"Dropout\", \"config\": {\"name\": \"Transformer-11-MultiHeadSelfAttention-Dropout\", \"trainable\": false, \"dtype\": \"float32\", \"rate\": 0.1, \"noise_shape\": null, \"seed\": null}, \"name\": \"Transformer-11-MultiHeadSelfAttention-Dropout\", \"inbound_nodes\": [[[\"Transformer-11-MultiHeadSelfAttention\", 0, 0, {}]]]}, {\"class_name\": \"Add\", \"config\": {\"name\": \"Transformer-11-MultiHeadSelfAttention-Add\", \"trainable\": false, \"dtype\": \"float32\"}, \"name\": \"Transformer-11-MultiHeadSelfAttention-Add\", \"inbound_nodes\": [[[\"Transformer-10-FeedForward-Norm\", 0, 0, {}], [\"Transformer-11-MultiHeadSelfAttention-Dropout\", 0, 0, {}]]]}, {\"class_name\": \"LayerNormalization\", \"config\": {\"name\": \"Transformer-11-MultiHeadSelfAttention-Norm\", \"trainable\": false, \"dtype\": \"float32\", \"center\": true, \"scale\": true, \"epsilon\": 1e-12, \"conditional\": false, \"hidden_units\": null, \"hidden_activation\": \"linear\", \"hidden_initializer\": {\"class_name\": \"TruncatedNormal\", \"config\": {\"mean\": 0.0, \"stddev\": 0.02, \"seed\": null}}}, \"name\": \"Transformer-11-MultiHeadSelfAttention-Norm\", \"inbound_nodes\": [[[\"Transformer-11-MultiHeadSelfAttention-Add\", 0, 0, {}]]]}, {\"class_name\": \"FeedForward\", \"config\": {\"name\": \"Transformer-11-FeedForward\", \"trainable\": false, \"dtype\": \"float32\", \"units\": 3072, \"activation\": \"gelu_erf\", \"use_bias\": true, \"kernel_initializer\": {\"class_name\": \"TruncatedNormal\", \"config\": {\"mean\": 0.0, \"stddev\": 0.02, \"seed\": null}}}, \"name\": \"Transformer-11-FeedForward\", \"inbound_nodes\": [[[\"Transformer-11-MultiHeadSelfAttention-Norm\", 0, 0, {}]]]}, {\"class_name\": \"Dropout\", \"config\": {\"name\": \"Transformer-11-FeedForward-Dropout\", \"trainable\": false, \"dtype\": \"float32\", \"rate\": 0.1, \"noise_shape\": null, \"seed\": null}, \"name\": \"Transformer-11-FeedForward-Dropout\", \"inbound_nodes\": [[[\"Transformer-11-FeedForward\", 0, 0, {}]]]}, {\"class_name\": \"Add\", \"config\": {\"name\": \"Transformer-11-FeedForward-Add\", \"trainable\": false, \"dtype\": \"float32\"}, \"name\": \"Transformer-11-FeedForward-Add\", \"inbound_nodes\": [[[\"Transformer-11-MultiHeadSelfAttention-Norm\", 0, 0, {}], [\"Transformer-11-FeedForward-Dropout\", 0, 0, {}]]]}, {\"class_name\": \"LayerNormalization\", \"config\": {\"name\": \"Transformer-11-FeedForward-Norm\", \"trainable\": false, \"dtype\": \"float32\", \"center\": true, \"scale\": true, \"epsilon\": 1e-12, \"conditional\": false, \"hidden_units\": null, \"hidden_activation\": \"linear\", \"hidden_initializer\": {\"class_name\": \"TruncatedNormal\", \"config\": {\"mean\": 0.0, \"stddev\": 0.02, \"seed\": null}}}, \"name\": \"Transformer-11-FeedForward-Norm\", \"inbound_nodes\": [[[\"Transformer-11-FeedForward-Add\", 0, 0, {}]]]}, {\"class_name\": \"Bidirectional\", \"config\": {\"name\": \"bidirectional\", \"trainable\": true, \"dtype\": \"float32\", \"layer\": {\"class_name\": \"LSTM\", \"config\": {\"name\": \"lstm\", \"trainable\": true, \"dtype\": \"float32\", \"return_sequences\": false, \"return_state\": false, \"go_backwards\": false, \"stateful\": false, \"unroll\": false, \"time_major\": false, \"units\": 128, \"activation\": \"tanh\", \"recurrent_activation\": \"sigmoid\", \"use_bias\": true, \"kernel_initializer\": {\"class_name\": \"GlorotUniform\", \"config\": {\"seed\": null}}, \"recurrent_initializer\": {\"class_name\": \"Orthogonal\", \"config\": {\"gain\": 1.0, \"seed\": null}}, \"bias_initializer\": {\"class_name\": \"Zeros\", \"config\": {}}, \"unit_forget_bias\": true, \"kernel_regularizer\": null, \"recurrent_regularizer\": null, \"bias_regularizer\": null, \"activity_regularizer\": null, \"kernel_constraint\": null, \"recurrent_constraint\": null, \"bias_constraint\": null, \"dropout\": 0.0, \"recurrent_dropout\": 0.0, \"implementation\": 2}}, \"merge_mode\": \"concat\"}, \"name\": \"bidirectional\", \"inbound_nodes\": [[[\"Transformer-11-FeedForward-Norm\", 0, 0, {}]]]}, {\"class_name\": \"Dense\", \"config\": {\"name\": \"dense\", \"trainable\": true, \"dtype\": \"float32\", \"units\": 110, \"activation\": \"linear\", \"use_bias\": true, \"kernel_initializer\": {\"class_name\": \"GlorotUniform\", \"config\": {\"seed\": null}}, \"bias_initializer\": {\"class_name\": \"Zeros\", \"config\": {}}, \"kernel_regularizer\": null, \"bias_regularizer\": null, \"activity_regularizer\": null, \"kernel_constraint\": null, \"bias_constraint\": null}, \"name\": \"dense\", \"inbound_nodes\": [[[\"bidirectional\", 0, 0, {}]]]}, {\"class_name\": \"Activation\", \"config\": {\"name\": \"activation\", \"trainable\": true, \"dtype\": \"float32\", \"activation\": \"sigmoid\"}, \"name\": \"activation\", \"inbound_nodes\": [[[\"dense\", 0, 0, {}]]]}], \"input_layers\": [[\"Input-Token\", 0, 0], [\"Input-Segment\", 0, 0]], \"output_layers\": [[\"activation\", 0, 0]]}, \"keras_version\": \"2.4.0\", \"backend\": \"tensorflow\"}\n"
          ],
          "name": "stdout"
        }
      ]
    },
    {
      "cell_type": "markdown",
      "metadata": {
        "id": "DGtauPuLoT3W"
      },
      "source": [
        "<h1>Main Function Predction</h1>"
      ]
    },
    {
      "cell_type": "code",
      "metadata": {
        "id": "LRY1kj0EOT-l"
      },
      "source": [
        "def predict_Bert(text):\n",
        "  nltk_tokens = nltk.word_tokenize(text)\n",
        "  result=loaded_model.predict([nltk_tokens])\n",
        "  if not result[0]:\n",
        "    return predict_use([text,'b'])\n",
        "  else:\n",
        "    return result"
      ],
      "execution_count": null,
      "outputs": []
    },
    {
      "cell_type": "code",
      "metadata": {
        "id": "ePJRB-KGmyhK"
      },
      "source": [
        "general_dect={\"Business\":['earn','money-fx','trade','interest','money-supply','income'],\n",
        "              \"Computing\":['comp.graphics','comp.os.ms-windows.misc','comp.sys.ibm.pc.hardware','comp.sys.mac.hardware','comp.windows.x','sci.electronics',],\n",
        "              \"Sport\":['rec.autos','rec.motorcycles','rec.sport.baseball','rec.sport.hockey'],\n",
        "              \"Governmental\":['talk.politics.misc','talk.politics.mideast'],\n",
        "              \"Medical\":['sci.med'],\n",
        "              \"Academic & Science\":['sci.space']}"
      ],
      "execution_count": null,
      "outputs": []
    },
    {
      "cell_type": "code",
      "metadata": {
        "id": "CpnBk8Vea5AN",
        "outputId": "59e2e759-4fa0-4b22-fbe4-be68a77b0935",
        "colab": {
          "base_uri": "https://localhost:8080/",
          "height": 309
        }
      },
      "source": [
        "result=predict_Bert(text)"
      ],
      "execution_count": null,
      "outputs": [
        {
          "output_type": "stream",
          "text": [
            "2020-09-05 18:37:34,003 [DEBUG] kashgari - predict input shape (2, 1, 88) x: \n",
            "(array([[  101,  2413,  2704, 26047,  2270,  5938,  5446,  2704,   100,\n",
            "         6936,  1996,  2342,  2000,  2491,  2270,  5938,  1999,  2831,\n",
            "         2182,  2651,  2007,  2329,  7306,  1997,  1996, 28889,  1037,\n",
            "         9837, 14056,  1996, 14056,  2056,  1996,  2704,  8182,  2037,\n",
            "         1998,  2270,  4968,  1998,  2647,  2451,  2002,  6430,  2000,\n",
            "         7615,  2006,  3251,  1996,  3395,  1997,   100,  2895,  2000,\n",
            "         5370,  2039,  1996,  7922,  2018,  1996,  9598, 13537,  9249,\n",
            "         3041,  2023,  2733,  2044,  1037,  3204,  1997,  5816,  9211,\n",
            "         2044,  2019,  3820,  2011,  2416,  2350,   100,  3842,  1999,\n",
            "         3000,  2006,  2337,  2000,   100,  2037,   102]], dtype=int32), array([[0, 0, 0, 0, 0, 0, 0, 0, 0, 0, 0, 0, 0, 0, 0, 0, 0, 0, 0, 0, 0, 0,\n",
            "        0, 0, 0, 0, 0, 0, 0, 0, 0, 0, 0, 0, 0, 0, 0, 0, 0, 0, 0, 0, 0, 0,\n",
            "        0, 0, 0, 0, 0, 0, 0, 0, 0, 0, 0, 0, 0, 0, 0, 0, 0, 0, 0, 0, 0, 0,\n",
            "        0, 0, 0, 0, 0, 0, 0, 0, 0, 0, 0, 0, 0, 0, 0, 0, 0, 0, 0, 0, 0, 0]],\n",
            "      dtype=int32))\n",
            "2020-09-05 18:37:34,085 [DEBUG] kashgari - predict output shape (1, 110)\n"
          ],
          "name": "stderr"
        }
      ]
    },
    {
      "cell_type": "code",
      "metadata": {
        "id": "Zcn6J6PfkRsL",
        "outputId": "ff277a3c-2fc6-4f79-f71a-b119279c82af",
        "colab": {
          "base_uri": "https://localhost:8080/",
          "height": 103
        }
      },
      "source": [
        "text"
      ],
      "execution_count": null,
      "outputs": [
        {
          "output_type": "execute_result",
          "data": {
            "application/vnd.google.colaboratory.intrinsic+json": {
              "type": "string"
            },
            "text/plain": [
              "'french minister discus public spending finance minister balladur discussed the need to control public spending in talk here today with british chancellor of the exchequer a treasury spokesman the spokesman said the minister reviewed their and public domestic and european community he declined to comment on whether the subject of concerted action to shore up the dollar had the currency dipped sharply earlier this week after a month of relative stability after an agreement by six major industrialised nation in paris on february to stabilise their'"
            ]
          },
          "metadata": {
            "tags": []
          },
          "execution_count": 159
        }
      ]
    },
    {
      "cell_type": "code",
      "metadata": {
        "id": "sOT0IhF4kWJz",
        "outputId": "c459103b-3112-4514-8dac-3e1b38379e9a",
        "colab": {
          "base_uri": "https://localhost:8080/",
          "height": 34
        }
      },
      "source": [
        "result"
      ],
      "execution_count": null,
      "outputs": [
        {
          "output_type": "execute_result",
          "data": {
            "text/plain": [
              "[['money-fx']]"
            ]
          },
          "metadata": {
            "tags": []
          },
          "execution_count": 161
        }
      ]
    },
    {
      "cell_type": "code",
      "metadata": {
        "id": "iYH_r4wya8Ys",
        "outputId": "a537a360-4f13-4e96-ce6b-f49cdf50428d",
        "colab": {
          "base_uri": "https://localhost:8080/",
          "height": 34
        }
      },
      "source": [
        "def predict_final(result):\n",
        "  flag=0\n",
        "  length_result=0\n",
        "  if type(result) == list:\n",
        "    length_result=len(result[0])\n",
        "  for key, values in general_dect.items():\n",
        "    if length_result>=1:\n",
        "      for j in range(length_result):\n",
        "        result_1=result[0][j]\n",
        "        if result_1 in values:\n",
        "          print(key)\n",
        "          flag=1\n",
        "          break\n",
        "        elif flag != 0 :\n",
        "          break\n",
        "        else:      \n",
        "          if key=='Academic & Science':\n",
        "            print(key,values)\n",
        "            print(\"sentance not found\")\n",
        "    else:\n",
        "      if result in values:\n",
        "        print(key)\n",
        "        break\n",
        "      else:\n",
        "        if key=='Academic & Science':\n",
        "          print(\"sentance not found\")\n",
        "    \n",
        "    \n",
        "\n",
        "predict_final(result)    \n",
        "    "
      ],
      "execution_count": null,
      "outputs": [
        {
          "output_type": "stream",
          "text": [
            "Business\n"
          ],
          "name": "stdout"
        }
      ]
    },
    {
      "cell_type": "code",
      "metadata": {
        "id": "1f1GKVPJivbr"
      },
      "source": [
        ""
      ],
      "execution_count": null,
      "outputs": []
    },
    {
      "cell_type": "code",
      "metadata": {
        "id": "qtMrdR8XixIz"
      },
      "source": [
        ""
      ],
      "execution_count": null,
      "outputs": []
    }
  ]
}